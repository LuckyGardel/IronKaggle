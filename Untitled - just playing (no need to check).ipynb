{
 "cells": [
  {
   "cell_type": "markdown",
   "id": "d1163590",
   "metadata": {},
   "source": [
    "#### Importing Libraries"
   ]
  },
  {
   "cell_type": "code",
   "execution_count": 1,
   "id": "95f38d93",
   "metadata": {},
   "outputs": [
    {
     "name": "stderr",
     "output_type": "stream",
     "text": [
      "C:\\Users\\ChristianGardel\\anaconda3\\lib\\site-packages\\xgboost\\compat.py:36: FutureWarning: pandas.Int64Index is deprecated and will be removed from pandas in a future version. Use pandas.Index with the appropriate dtype instead.\n",
      "  from pandas import MultiIndex, Int64Index\n"
     ]
    }
   ],
   "source": [
    "import pandas as pd\n",
    "import matplotlib.pyplot as plt\n",
    "import numpy as np\n",
    "import seaborn as sns\n",
    "import math\n",
    "from sklearn.metrics import precision_score\n",
    "from sklearn.metrics import recall_score\n",
    "from sklearn.metrics import f1_score\n",
    "from sklearn.model_selection import cross_validate\n",
    "from sklearn.model_selection import cross_val_score\n",
    "from sklearn.ensemble import RandomForestRegressor\n",
    "from sklearn.linear_model import SGDRegressor\n",
    "from sklearn.tree import DecisionTreeRegressor\n",
    "from sklearn.neural_network import MLPRegressor\n",
    "from sklearn.linear_model import LinearRegression\n",
    "from sklearn.neighbors import KNeighborsRegressor\n",
    "from sklearn.metrics import r2_score\n",
    "from sklearn import linear_model\n",
    "from sklearn.preprocessing import MinMaxScaler, StandardScaler, OneHotEncoder\n",
    "from sklearn.model_selection import train_test_split\n",
    "from sklearn.metrics import r2_score, mean_squared_error, mean_absolute_error\n",
    "from sklearn.linear_model import Lasso, Ridge, ElasticNet\n",
    "from sklearn.ensemble import RandomForestRegressor as RFR\n",
    "from xgboost import XGBRegressor as XGBR\n",
    "from lightgbm import LGBMRegressor as LGBMR"
   ]
  },
  {
   "cell_type": "markdown",
   "id": "857ce40d",
   "metadata": {},
   "source": [
    "#### Loading Data"
   ]
  },
  {
   "cell_type": "code",
   "execution_count": 2,
   "id": "22dc36ed",
   "metadata": {},
   "outputs": [
    {
     "name": "stdout",
     "output_type": "stream",
     "text": [
      "(640840, 10)\n"
     ]
    },
    {
     "data": {
      "text/html": [
       "<div>\n",
       "<style scoped>\n",
       "    .dataframe tbody tr th:only-of-type {\n",
       "        vertical-align: middle;\n",
       "    }\n",
       "\n",
       "    .dataframe tbody tr th {\n",
       "        vertical-align: top;\n",
       "    }\n",
       "\n",
       "    .dataframe thead th {\n",
       "        text-align: right;\n",
       "    }\n",
       "</style>\n",
       "<table border=\"1\" class=\"dataframe\">\n",
       "  <thead>\n",
       "    <tr style=\"text-align: right;\">\n",
       "      <th></th>\n",
       "      <th>Unnamed: 0</th>\n",
       "      <th>store_ID</th>\n",
       "      <th>day_of_week</th>\n",
       "      <th>date</th>\n",
       "      <th>nb_customers_on_day</th>\n",
       "      <th>open</th>\n",
       "      <th>promotion</th>\n",
       "      <th>state_holiday</th>\n",
       "      <th>school_holiday</th>\n",
       "      <th>sales</th>\n",
       "    </tr>\n",
       "  </thead>\n",
       "  <tbody>\n",
       "    <tr>\n",
       "      <th>0</th>\n",
       "      <td>425390</td>\n",
       "      <td>366</td>\n",
       "      <td>4</td>\n",
       "      <td>2013-04-18</td>\n",
       "      <td>517</td>\n",
       "      <td>1</td>\n",
       "      <td>0</td>\n",
       "      <td>0</td>\n",
       "      <td>0</td>\n",
       "      <td>4422</td>\n",
       "    </tr>\n",
       "    <tr>\n",
       "      <th>1</th>\n",
       "      <td>291687</td>\n",
       "      <td>394</td>\n",
       "      <td>6</td>\n",
       "      <td>2015-04-11</td>\n",
       "      <td>694</td>\n",
       "      <td>1</td>\n",
       "      <td>0</td>\n",
       "      <td>0</td>\n",
       "      <td>0</td>\n",
       "      <td>8297</td>\n",
       "    </tr>\n",
       "    <tr>\n",
       "      <th>2</th>\n",
       "      <td>411278</td>\n",
       "      <td>807</td>\n",
       "      <td>4</td>\n",
       "      <td>2013-08-29</td>\n",
       "      <td>970</td>\n",
       "      <td>1</td>\n",
       "      <td>1</td>\n",
       "      <td>0</td>\n",
       "      <td>0</td>\n",
       "      <td>9729</td>\n",
       "    </tr>\n",
       "    <tr>\n",
       "      <th>3</th>\n",
       "      <td>664714</td>\n",
       "      <td>802</td>\n",
       "      <td>2</td>\n",
       "      <td>2013-05-28</td>\n",
       "      <td>473</td>\n",
       "      <td>1</td>\n",
       "      <td>1</td>\n",
       "      <td>0</td>\n",
       "      <td>0</td>\n",
       "      <td>6513</td>\n",
       "    </tr>\n",
       "    <tr>\n",
       "      <th>4</th>\n",
       "      <td>540835</td>\n",
       "      <td>726</td>\n",
       "      <td>4</td>\n",
       "      <td>2013-10-10</td>\n",
       "      <td>1068</td>\n",
       "      <td>1</td>\n",
       "      <td>1</td>\n",
       "      <td>0</td>\n",
       "      <td>0</td>\n",
       "      <td>10882</td>\n",
       "    </tr>\n",
       "  </tbody>\n",
       "</table>\n",
       "</div>"
      ],
      "text/plain": [
       "   Unnamed: 0  store_ID  day_of_week        date  nb_customers_on_day  open  \\\n",
       "0      425390       366            4  2013-04-18                  517     1   \n",
       "1      291687       394            6  2015-04-11                  694     1   \n",
       "2      411278       807            4  2013-08-29                  970     1   \n",
       "3      664714       802            2  2013-05-28                  473     1   \n",
       "4      540835       726            4  2013-10-10                 1068     1   \n",
       "\n",
       "   promotion state_holiday  school_holiday  sales  \n",
       "0          0             0               0   4422  \n",
       "1          0             0               0   8297  \n",
       "2          1             0               0   9729  \n",
       "3          1             0               0   6513  \n",
       "4          1             0               0  10882  "
      ]
     },
     "execution_count": 2,
     "metadata": {},
     "output_type": "execute_result"
    }
   ],
   "source": [
    "data = pd.read_csv('sales.csv')\n",
    "print(data.shape)\n",
    "data.head()"
   ]
  },
  {
   "cell_type": "markdown",
   "id": "4085b88e",
   "metadata": {},
   "source": [
    "#### Checking Info and Dtypes"
   ]
  },
  {
   "cell_type": "code",
   "execution_count": 3,
   "id": "079e88bb",
   "metadata": {},
   "outputs": [
    {
     "data": {
      "text/plain": [
       "<bound method DataFrame.info of         Unnamed: 0  store_ID  day_of_week        date  nb_customers_on_day  \\\n",
       "0           425390       366            4  2013-04-18                  517   \n",
       "1           291687       394            6  2015-04-11                  694   \n",
       "2           411278       807            4  2013-08-29                  970   \n",
       "3           664714       802            2  2013-05-28                  473   \n",
       "4           540835       726            4  2013-10-10                 1068   \n",
       "...            ...       ...          ...         ...                  ...   \n",
       "640835      359783       409            6  2013-10-26                  483   \n",
       "640836      152315        97            1  2014-04-14                  987   \n",
       "640837      117952       987            1  2014-07-07                  925   \n",
       "640838      435829      1084            4  2014-06-12                  725   \n",
       "640839      305711       695            7  2015-05-03                    0   \n",
       "\n",
       "        open  promotion state_holiday  school_holiday  sales  \n",
       "0          1          0             0               0   4422  \n",
       "1          1          0             0               0   8297  \n",
       "2          1          1             0               0   9729  \n",
       "3          1          1             0               0   6513  \n",
       "4          1          1             0               0  10882  \n",
       "...      ...        ...           ...             ...    ...  \n",
       "640835     1          0             0               0   4553  \n",
       "640836     1          1             0               0  12307  \n",
       "640837     1          0             0               0   6800  \n",
       "640838     1          0             0               0   5344  \n",
       "640839     0          0             0               0      0  \n",
       "\n",
       "[640840 rows x 10 columns]>"
      ]
     },
     "execution_count": 3,
     "metadata": {},
     "output_type": "execute_result"
    }
   ],
   "source": [
    "data.info"
   ]
  },
  {
   "cell_type": "code",
   "execution_count": 4,
   "id": "6e7dda8f",
   "metadata": {},
   "outputs": [
    {
     "data": {
      "text/plain": [
       "Unnamed: 0              int64\n",
       "store_ID                int64\n",
       "day_of_week             int64\n",
       "date                   object\n",
       "nb_customers_on_day     int64\n",
       "open                    int64\n",
       "promotion               int64\n",
       "state_holiday          object\n",
       "school_holiday          int64\n",
       "sales                   int64\n",
       "dtype: object"
      ]
     },
     "execution_count": 4,
     "metadata": {},
     "output_type": "execute_result"
    }
   ],
   "source": [
    "data.dtypes"
   ]
  },
  {
   "cell_type": "markdown",
   "id": "453a5265",
   "metadata": {},
   "source": [
    "#### Checking Nans & Duplicates"
   ]
  },
  {
   "cell_type": "code",
   "execution_count": 5,
   "id": "e98a6929",
   "metadata": {},
   "outputs": [
    {
     "data": {
      "text/plain": [
       "0"
      ]
     },
     "execution_count": 5,
     "metadata": {},
     "output_type": "execute_result"
    }
   ],
   "source": [
    "data.isna().sum().sum()"
   ]
  },
  {
   "cell_type": "code",
   "execution_count": 6,
   "id": "ce7ca346",
   "metadata": {},
   "outputs": [
    {
     "data": {
      "text/plain": [
       "0"
      ]
     },
     "execution_count": 6,
     "metadata": {},
     "output_type": "execute_result"
    }
   ],
   "source": [
    "data.duplicated().sum()"
   ]
  },
  {
   "cell_type": "markdown",
   "id": "bded4e5d",
   "metadata": {},
   "source": [
    "#### Checking values inside columns "
   ]
  },
  {
   "cell_type": "code",
   "execution_count": 7,
   "id": "c1b70ad2",
   "metadata": {},
   "outputs": [
    {
     "data": {
      "text/plain": [
       "425390    1\n",
       "470563    1\n",
       "581093    1\n",
       "449511    1\n",
       "671617    1\n",
       "         ..\n",
       "359805    1\n",
       "159087    1\n",
       "52456     1\n",
       "46534     1\n",
       "305711    1\n",
       "Name: Unnamed: 0, Length: 640840, dtype: int64"
      ]
     },
     "execution_count": 7,
     "metadata": {},
     "output_type": "execute_result"
    }
   ],
   "source": [
    "data['Unnamed: 0'].value_counts()"
   ]
  },
  {
   "cell_type": "code",
   "execution_count": 8,
   "id": "52124e48",
   "metadata": {},
   "outputs": [],
   "source": [
    "data = data.drop(['Unnamed: 0'], axis = 1)"
   ]
  },
  {
   "cell_type": "markdown",
   "id": "3deaff3b",
   "metadata": {},
   "source": [
    "We can drop this column as it doenst give any relevant info. There is one for each row. "
   ]
  },
  {
   "cell_type": "code",
   "execution_count": 9,
   "id": "d4956fde",
   "metadata": {},
   "outputs": [
    {
     "data": {
      "text/plain": [
       "1045    645\n",
       "309     636\n",
       "754     635\n",
       "432     634\n",
       "286     634\n",
       "       ... \n",
       "1004    448\n",
       "287     448\n",
       "1065    445\n",
       "81      438\n",
       "542     436\n",
       "Name: store_ID, Length: 1115, dtype: int64"
      ]
     },
     "execution_count": 9,
     "metadata": {},
     "output_type": "execute_result"
    }
   ],
   "source": [
    "data['store_ID'].value_counts()"
   ]
  },
  {
   "cell_type": "markdown",
   "id": "cbd59300",
   "metadata": {},
   "source": [
    "These are the ids of the different stores "
   ]
  },
  {
   "cell_type": "code",
   "execution_count": 10,
   "id": "6dc38d73",
   "metadata": {},
   "outputs": [
    {
     "data": {
      "text/plain": [
       "5    92138\n",
       "4    91972\n",
       "2    91686\n",
       "3    91651\n",
       "6    91347\n",
       "7    91075\n",
       "1    90971\n",
       "Name: day_of_week, dtype: int64"
      ]
     },
     "execution_count": 10,
     "metadata": {},
     "output_type": "execute_result"
    }
   ],
   "source": [
    "data['day_of_week'].value_counts()"
   ]
  },
  {
   "cell_type": "markdown",
   "id": "12f7e8a6",
   "metadata": {},
   "source": [
    "Days of the week encoded as numerical from 1 (monday) to 7 (sunday)"
   ]
  },
  {
   "cell_type": "code",
   "execution_count": 11,
   "id": "c6b4111b",
   "metadata": {},
   "outputs": [
    {
     "data": {
      "text/plain": [
       "2015-05-10    756\n",
       "2014-05-23    746\n",
       "2014-02-20    745\n",
       "2014-05-22    741\n",
       "2014-03-21    740\n",
       "             ... \n",
       "2014-10-20    562\n",
       "2014-09-11    561\n",
       "2014-12-09    561\n",
       "2014-09-27    559\n",
       "2014-08-17    558\n",
       "Name: date, Length: 942, dtype: int64"
      ]
     },
     "execution_count": 11,
     "metadata": {},
     "output_type": "execute_result"
    }
   ],
   "source": [
    "data['date'].value_counts()"
   ]
  },
  {
   "cell_type": "code",
   "execution_count": 12,
   "id": "fee7bcf0",
   "metadata": {},
   "outputs": [],
   "source": [
    "data['date'] = pd.to_datetime(data['date'])"
   ]
  },
  {
   "cell_type": "markdown",
   "id": "d56abe5e",
   "metadata": {},
   "source": [
    "Date as a string, we convert this to date format "
   ]
  },
  {
   "cell_type": "code",
   "execution_count": 13,
   "id": "de920a83",
   "metadata": {},
   "outputs": [],
   "source": [
    "data['month_of_year'] =  data['date'].dt.month"
   ]
  },
  {
   "cell_type": "markdown",
   "id": "d1a49d7e",
   "metadata": {},
   "source": [
    "Creating a new column containing the month info."
   ]
  },
  {
   "cell_type": "code",
   "execution_count": 14,
   "id": "84edeefc",
   "metadata": {},
   "outputs": [],
   "source": [
    "data = data.drop(['date'], axis = 1)"
   ]
  },
  {
   "cell_type": "markdown",
   "id": "9ad2d8c1",
   "metadata": {},
   "source": [
    "Drop Date column"
   ]
  },
  {
   "cell_type": "code",
   "execution_count": 15,
   "id": "b6e506b3",
   "metadata": {},
   "outputs": [
    {
     "data": {
      "text/plain": [
       "0       108854\n",
       "560       1539\n",
       "517       1507\n",
       "571       1493\n",
       "528       1492\n",
       "         ...  \n",
       "3969         1\n",
       "4496         1\n",
       "4578         1\n",
       "4925         1\n",
       "4003         1\n",
       "Name: nb_customers_on_day, Length: 3886, dtype: int64"
      ]
     },
     "execution_count": 15,
     "metadata": {},
     "output_type": "execute_result"
    }
   ],
   "source": [
    "data['nb_customers_on_day'].value_counts()"
   ]
  },
  {
   "cell_type": "markdown",
   "id": "46071c59",
   "metadata": {},
   "source": [
    "Number of customers received per day "
   ]
  },
  {
   "cell_type": "code",
   "execution_count": 16,
   "id": "d9f4afab",
   "metadata": {},
   "outputs": [
    {
     "data": {
      "text/plain": [
       "1    532016\n",
       "0    108824\n",
       "Name: open, dtype: int64"
      ]
     },
     "execution_count": 16,
     "metadata": {},
     "output_type": "execute_result"
    }
   ],
   "source": [
    "data['open'].value_counts()"
   ]
  },
  {
   "cell_type": "markdown",
   "id": "777fdf71",
   "metadata": {},
   "source": [
    "Boolean indicating 0 shop closed 1 shop opened"
   ]
  },
  {
   "cell_type": "code",
   "execution_count": 17,
   "id": "2bbfa71f",
   "metadata": {},
   "outputs": [
    {
     "data": {
      "text/plain": [
       "0    396220\n",
       "1    244620\n",
       "Name: promotion, dtype: int64"
      ]
     },
     "execution_count": 17,
     "metadata": {},
     "output_type": "execute_result"
    }
   ],
   "source": [
    "data['promotion'].value_counts()"
   ]
  },
  {
   "cell_type": "markdown",
   "id": "99a20426",
   "metadata": {},
   "source": [
    "Boolean indicating 0 No promo 1 promo Active"
   ]
  },
  {
   "cell_type": "code",
   "execution_count": 18,
   "id": "1c86f3a2",
   "metadata": {},
   "outputs": [
    {
     "data": {
      "text/plain": [
       "0    621160\n",
       "a     12842\n",
       "b      4214\n",
       "c      2624\n",
       "Name: state_holiday, dtype: int64"
      ]
     },
     "execution_count": 18,
     "metadata": {},
     "output_type": "execute_result"
    }
   ],
   "source": [
    "data['state_holiday'].value_counts()"
   ]
  },
  {
   "cell_type": "markdown",
   "id": "9cd140c5",
   "metadata": {},
   "source": [
    "Grouping values a,b & c as 1. They all mean Holidays"
   ]
  },
  {
   "cell_type": "code",
   "execution_count": 19,
   "id": "f11cc66e",
   "metadata": {},
   "outputs": [
    {
     "data": {
      "text/plain": [
       "0    621160\n",
       "1     19680\n",
       "Name: state_holiday, dtype: int64"
      ]
     },
     "execution_count": 19,
     "metadata": {},
     "output_type": "execute_result"
    }
   ],
   "source": [
    "data['state_holiday'] = np.where(data.state_holiday.isin(['a','b','c']),'1', data.state_holiday)\n",
    "data['state_holiday'].value_counts()"
   ]
  },
  {
   "cell_type": "markdown",
   "id": "e0093658",
   "metadata": {},
   "source": [
    "Boolean indicating 0 No Holiday 1 Holiday On"
   ]
  },
  {
   "cell_type": "code",
   "execution_count": 20,
   "id": "e9931226",
   "metadata": {},
   "outputs": [
    {
     "data": {
      "text/plain": [
       "0    526468\n",
       "1    114372\n",
       "Name: school_holiday, dtype: int64"
      ]
     },
     "execution_count": 20,
     "metadata": {},
     "output_type": "execute_result"
    }
   ],
   "source": [
    "data['school_holiday'].value_counts()"
   ]
  },
  {
   "cell_type": "code",
   "execution_count": 21,
   "id": "5f6a122f",
   "metadata": {},
   "outputs": [
    {
     "data": {
      "text/plain": [
       "1    526468\n",
       "0    114372\n",
       "Name: school_holiday, dtype: int64"
      ]
     },
     "execution_count": 21,
     "metadata": {},
     "output_type": "execute_result"
    }
   ],
   "source": [
    "data['school_holiday'] = data['school_holiday'].replace({0:1, 1:0})\n",
    "data['school_holiday'].value_counts()"
   ]
  },
  {
   "cell_type": "markdown",
   "id": "66063807",
   "metadata": {},
   "source": [
    "Boolean indicating 0 No Holiday 1 Holiday On"
   ]
  },
  {
   "cell_type": "code",
   "execution_count": 22,
   "id": "86276df7",
   "metadata": {},
   "outputs": [
    {
     "data": {
      "text/plain": [
       "0        108855\n",
       "5674        146\n",
       "6049        134\n",
       "5449        130\n",
       "5723        128\n",
       "          ...  \n",
       "17856         1\n",
       "24020         1\n",
       "20922         1\n",
       "16375         1\n",
       "16737         1\n",
       "Name: sales, Length: 20129, dtype: int64"
      ]
     },
     "execution_count": 22,
     "metadata": {},
     "output_type": "execute_result"
    }
   ],
   "source": [
    "data['sales'].value_counts()"
   ]
  },
  {
   "cell_type": "code",
   "execution_count": null,
   "id": "454e82cb",
   "metadata": {},
   "outputs": [],
   "source": [
    "# def clean_dataframe(data):\n",
    "#     data.columns = data.columns.str.lower()\n",
    "#     data['open'] = data['open'].astype('object')\n",
    "#     data['promotion'] = data['promotion'].astype('object')\n",
    "#     data['day_of_week'] = data['day_of_week'].astype('object')\n",
    "#     data['state_holiday'] = data['state_holiday'].astype('object')\n",
    "#     data['school_holiday'] = data['school_holiday'].astype('object')\n",
    "#     data[\"store_ID\"] = data[\"store_ID\"].astype(\"object\")\n",
    "#     data.date = data.date.astype(\"datetime64\")\n",
    "#     data[\"year\"] = pd.DatetimeIndex(data.date).year\n",
    "#     data[\"month\"] = pd.DatetimeIndex(data.date).month\n",
    "#     data[\"day\"] = pd.DatetimeIndex(data.date).day\n",
    "#     data.date = data.date.astype(\"object\")\n",
    "#     data['state_holiday'] = data['state_holiday'].str.replace('a','1').str.replace('b','2').str.replace('c','3').astype('object')\n",
    "#     try:\n",
    "#         data = data.drop(columns = [\"Unnamed: 0\"])\n",
    "#     except:\n",
    "#         pass\n",
    "#     return data"
   ]
  },
  {
   "cell_type": "markdown",
   "id": "8c437ffe",
   "metadata": {},
   "source": [
    "#### Re Checking dtypes"
   ]
  },
  {
   "cell_type": "code",
   "execution_count": 23,
   "id": "7685de3f",
   "metadata": {},
   "outputs": [],
   "source": [
    "data['store_ID'] = data['store_ID'].astype('object')\n",
    "data['promotion'] = data['promotion'].astype('object')\n",
    "data['open'] = data['open'].astype('object')\n",
    "data['school_holiday'] = data['school_holiday'].astype('object')\n",
    "data['day_of_week'] = data['day_of_week'].astype('object')\n",
    "data['month_of_year'] = data['month_of_year'].astype('object')"
   ]
  },
  {
   "cell_type": "code",
   "execution_count": 24,
   "id": "f646b703",
   "metadata": {},
   "outputs": [
    {
     "data": {
      "text/plain": [
       "store_ID               object\n",
       "day_of_week            object\n",
       "nb_customers_on_day     int64\n",
       "open                   object\n",
       "promotion              object\n",
       "state_holiday          object\n",
       "school_holiday         object\n",
       "sales                   int64\n",
       "month_of_year          object\n",
       "dtype: object"
      ]
     },
     "execution_count": 24,
     "metadata": {},
     "output_type": "execute_result"
    }
   ],
   "source": [
    "data.dtypes"
   ]
  },
  {
   "cell_type": "markdown",
   "id": "46422ab6",
   "metadata": {},
   "source": [
    "#### Group total sales and nº of custtomeers by store ID & Day  of the week "
   ]
  },
  {
   "cell_type": "code",
   "execution_count": 25,
   "id": "4ec120d1",
   "metadata": {},
   "outputs": [
    {
     "data": {
      "text/html": [
       "<div>\n",
       "<style scoped>\n",
       "    .dataframe tbody tr th:only-of-type {\n",
       "        vertical-align: middle;\n",
       "    }\n",
       "\n",
       "    .dataframe tbody tr th {\n",
       "        vertical-align: top;\n",
       "    }\n",
       "\n",
       "    .dataframe thead th {\n",
       "        text-align: right;\n",
       "    }\n",
       "</style>\n",
       "<table border=\"1\" class=\"dataframe\">\n",
       "  <thead>\n",
       "    <tr style=\"text-align: right;\">\n",
       "      <th></th>\n",
       "      <th></th>\n",
       "      <th>sales</th>\n",
       "      <th>nb_customers_on_day</th>\n",
       "    </tr>\n",
       "    <tr>\n",
       "      <th>store_ID</th>\n",
       "      <th>day_of_week</th>\n",
       "      <th></th>\n",
       "      <th></th>\n",
       "    </tr>\n",
       "  </thead>\n",
       "  <tbody>\n",
       "    <tr>\n",
       "      <th>262</th>\n",
       "      <th>7</th>\n",
       "      <td>2472935</td>\n",
       "      <td>378635</td>\n",
       "    </tr>\n",
       "    <tr>\n",
       "      <th rowspan=\"2\" valign=\"top\">817</th>\n",
       "      <th>1</th>\n",
       "      <td>1999023</td>\n",
       "      <td>275256</td>\n",
       "    </tr>\n",
       "    <tr>\n",
       "      <th>4</th>\n",
       "      <td>1954055</td>\n",
       "      <td>284220</td>\n",
       "    </tr>\n",
       "    <tr>\n",
       "      <th>513</th>\n",
       "      <th>1</th>\n",
       "      <td>1948643</td>\n",
       "      <td>215507</td>\n",
       "    </tr>\n",
       "    <tr>\n",
       "      <th>817</th>\n",
       "      <th>2</th>\n",
       "      <td>1919305</td>\n",
       "      <td>273103</td>\n",
       "    </tr>\n",
       "    <tr>\n",
       "      <th>...</th>\n",
       "      <th>...</th>\n",
       "      <td>...</td>\n",
       "      <td>...</td>\n",
       "    </tr>\n",
       "    <tr>\n",
       "      <th>575</th>\n",
       "      <th>7</th>\n",
       "      <td>0</td>\n",
       "      <td>0</td>\n",
       "    </tr>\n",
       "    <tr>\n",
       "      <th>576</th>\n",
       "      <th>7</th>\n",
       "      <td>0</td>\n",
       "      <td>0</td>\n",
       "    </tr>\n",
       "    <tr>\n",
       "      <th>577</th>\n",
       "      <th>7</th>\n",
       "      <td>0</td>\n",
       "      <td>0</td>\n",
       "    </tr>\n",
       "    <tr>\n",
       "      <th>579</th>\n",
       "      <th>7</th>\n",
       "      <td>0</td>\n",
       "      <td>0</td>\n",
       "    </tr>\n",
       "    <tr>\n",
       "      <th>1115</th>\n",
       "      <th>7</th>\n",
       "      <td>0</td>\n",
       "      <td>0</td>\n",
       "    </tr>\n",
       "  </tbody>\n",
       "</table>\n",
       "<p>7805 rows × 2 columns</p>\n",
       "</div>"
      ],
      "text/plain": [
       "                        sales  nb_customers_on_day\n",
       "store_ID day_of_week                              \n",
       "262      7            2472935               378635\n",
       "817      1            1999023               275256\n",
       "         4            1954055               284220\n",
       "513      1            1948643               215507\n",
       "817      2            1919305               273103\n",
       "...                       ...                  ...\n",
       "575      7                  0                    0\n",
       "576      7                  0                    0\n",
       "577      7                  0                    0\n",
       "579      7                  0                    0\n",
       "1115     7                  0                    0\n",
       "\n",
       "[7805 rows x 2 columns]"
      ]
     },
     "execution_count": 25,
     "metadata": {},
     "output_type": "execute_result"
    }
   ],
   "source": [
    "data_grp_ID = data.groupby(['store_ID', 'day_of_week']).agg({'sales' : sum, 'nb_customers_on_day': sum})\n",
    "data_grp_ID.sort_values(by = ['sales'], ascending= False)"
   ]
  },
  {
   "cell_type": "markdown",
   "id": "b1ac21bd",
   "metadata": {},
   "source": [
    "#### Splitting between Num and Cat"
   ]
  },
  {
   "cell_type": "code",
   "execution_count": 26,
   "id": "0ddf42ff",
   "metadata": {},
   "outputs": [],
   "source": [
    "categorical = data.select_dtypes(object)\n",
    "numerical = data.select_dtypes(np.number)"
   ]
  },
  {
   "cell_type": "code",
   "execution_count": 27,
   "id": "8ec01aa2",
   "metadata": {},
   "outputs": [
    {
     "data": {
      "text/html": [
       "<div>\n",
       "<style scoped>\n",
       "    .dataframe tbody tr th:only-of-type {\n",
       "        vertical-align: middle;\n",
       "    }\n",
       "\n",
       "    .dataframe tbody tr th {\n",
       "        vertical-align: top;\n",
       "    }\n",
       "\n",
       "    .dataframe thead th {\n",
       "        text-align: right;\n",
       "    }\n",
       "</style>\n",
       "<table border=\"1\" class=\"dataframe\">\n",
       "  <thead>\n",
       "    <tr style=\"text-align: right;\">\n",
       "      <th></th>\n",
       "      <th>store_ID</th>\n",
       "      <th>day_of_week</th>\n",
       "      <th>open</th>\n",
       "      <th>promotion</th>\n",
       "      <th>state_holiday</th>\n",
       "      <th>school_holiday</th>\n",
       "      <th>month_of_year</th>\n",
       "    </tr>\n",
       "  </thead>\n",
       "  <tbody>\n",
       "    <tr>\n",
       "      <th>0</th>\n",
       "      <td>366</td>\n",
       "      <td>4</td>\n",
       "      <td>1</td>\n",
       "      <td>0</td>\n",
       "      <td>0</td>\n",
       "      <td>1</td>\n",
       "      <td>4</td>\n",
       "    </tr>\n",
       "    <tr>\n",
       "      <th>1</th>\n",
       "      <td>394</td>\n",
       "      <td>6</td>\n",
       "      <td>1</td>\n",
       "      <td>0</td>\n",
       "      <td>0</td>\n",
       "      <td>1</td>\n",
       "      <td>4</td>\n",
       "    </tr>\n",
       "    <tr>\n",
       "      <th>2</th>\n",
       "      <td>807</td>\n",
       "      <td>4</td>\n",
       "      <td>1</td>\n",
       "      <td>1</td>\n",
       "      <td>0</td>\n",
       "      <td>1</td>\n",
       "      <td>8</td>\n",
       "    </tr>\n",
       "    <tr>\n",
       "      <th>3</th>\n",
       "      <td>802</td>\n",
       "      <td>2</td>\n",
       "      <td>1</td>\n",
       "      <td>1</td>\n",
       "      <td>0</td>\n",
       "      <td>1</td>\n",
       "      <td>5</td>\n",
       "    </tr>\n",
       "    <tr>\n",
       "      <th>4</th>\n",
       "      <td>726</td>\n",
       "      <td>4</td>\n",
       "      <td>1</td>\n",
       "      <td>1</td>\n",
       "      <td>0</td>\n",
       "      <td>1</td>\n",
       "      <td>10</td>\n",
       "    </tr>\n",
       "    <tr>\n",
       "      <th>...</th>\n",
       "      <td>...</td>\n",
       "      <td>...</td>\n",
       "      <td>...</td>\n",
       "      <td>...</td>\n",
       "      <td>...</td>\n",
       "      <td>...</td>\n",
       "      <td>...</td>\n",
       "    </tr>\n",
       "    <tr>\n",
       "      <th>640835</th>\n",
       "      <td>409</td>\n",
       "      <td>6</td>\n",
       "      <td>1</td>\n",
       "      <td>0</td>\n",
       "      <td>0</td>\n",
       "      <td>1</td>\n",
       "      <td>10</td>\n",
       "    </tr>\n",
       "    <tr>\n",
       "      <th>640836</th>\n",
       "      <td>97</td>\n",
       "      <td>1</td>\n",
       "      <td>1</td>\n",
       "      <td>1</td>\n",
       "      <td>0</td>\n",
       "      <td>1</td>\n",
       "      <td>4</td>\n",
       "    </tr>\n",
       "    <tr>\n",
       "      <th>640837</th>\n",
       "      <td>987</td>\n",
       "      <td>1</td>\n",
       "      <td>1</td>\n",
       "      <td>0</td>\n",
       "      <td>0</td>\n",
       "      <td>1</td>\n",
       "      <td>7</td>\n",
       "    </tr>\n",
       "    <tr>\n",
       "      <th>640838</th>\n",
       "      <td>1084</td>\n",
       "      <td>4</td>\n",
       "      <td>1</td>\n",
       "      <td>0</td>\n",
       "      <td>0</td>\n",
       "      <td>1</td>\n",
       "      <td>6</td>\n",
       "    </tr>\n",
       "    <tr>\n",
       "      <th>640839</th>\n",
       "      <td>695</td>\n",
       "      <td>7</td>\n",
       "      <td>0</td>\n",
       "      <td>0</td>\n",
       "      <td>0</td>\n",
       "      <td>1</td>\n",
       "      <td>5</td>\n",
       "    </tr>\n",
       "  </tbody>\n",
       "</table>\n",
       "<p>640840 rows × 7 columns</p>\n",
       "</div>"
      ],
      "text/plain": [
       "       store_ID day_of_week open promotion state_holiday school_holiday  \\\n",
       "0           366           4    1         0             0              1   \n",
       "1           394           6    1         0             0              1   \n",
       "2           807           4    1         1             0              1   \n",
       "3           802           2    1         1             0              1   \n",
       "4           726           4    1         1             0              1   \n",
       "...         ...         ...  ...       ...           ...            ...   \n",
       "640835      409           6    1         0             0              1   \n",
       "640836       97           1    1         1             0              1   \n",
       "640837      987           1    1         0             0              1   \n",
       "640838     1084           4    1         0             0              1   \n",
       "640839      695           7    0         0             0              1   \n",
       "\n",
       "       month_of_year  \n",
       "0                  4  \n",
       "1                  4  \n",
       "2                  8  \n",
       "3                  5  \n",
       "4                 10  \n",
       "...              ...  \n",
       "640835            10  \n",
       "640836             4  \n",
       "640837             7  \n",
       "640838             6  \n",
       "640839             5  \n",
       "\n",
       "[640840 rows x 7 columns]"
      ]
     },
     "execution_count": 27,
     "metadata": {},
     "output_type": "execute_result"
    }
   ],
   "source": [
    "categorical"
   ]
  },
  {
   "cell_type": "code",
   "execution_count": 28,
   "id": "b01a6bb8",
   "metadata": {},
   "outputs": [
    {
     "data": {
      "text/html": [
       "<div>\n",
       "<style scoped>\n",
       "    .dataframe tbody tr th:only-of-type {\n",
       "        vertical-align: middle;\n",
       "    }\n",
       "\n",
       "    .dataframe tbody tr th {\n",
       "        vertical-align: top;\n",
       "    }\n",
       "\n",
       "    .dataframe thead th {\n",
       "        text-align: right;\n",
       "    }\n",
       "</style>\n",
       "<table border=\"1\" class=\"dataframe\">\n",
       "  <thead>\n",
       "    <tr style=\"text-align: right;\">\n",
       "      <th></th>\n",
       "      <th>nb_customers_on_day</th>\n",
       "      <th>sales</th>\n",
       "    </tr>\n",
       "  </thead>\n",
       "  <tbody>\n",
       "    <tr>\n",
       "      <th>0</th>\n",
       "      <td>517</td>\n",
       "      <td>4422</td>\n",
       "    </tr>\n",
       "    <tr>\n",
       "      <th>1</th>\n",
       "      <td>694</td>\n",
       "      <td>8297</td>\n",
       "    </tr>\n",
       "    <tr>\n",
       "      <th>2</th>\n",
       "      <td>970</td>\n",
       "      <td>9729</td>\n",
       "    </tr>\n",
       "    <tr>\n",
       "      <th>3</th>\n",
       "      <td>473</td>\n",
       "      <td>6513</td>\n",
       "    </tr>\n",
       "    <tr>\n",
       "      <th>4</th>\n",
       "      <td>1068</td>\n",
       "      <td>10882</td>\n",
       "    </tr>\n",
       "    <tr>\n",
       "      <th>...</th>\n",
       "      <td>...</td>\n",
       "      <td>...</td>\n",
       "    </tr>\n",
       "    <tr>\n",
       "      <th>640835</th>\n",
       "      <td>483</td>\n",
       "      <td>4553</td>\n",
       "    </tr>\n",
       "    <tr>\n",
       "      <th>640836</th>\n",
       "      <td>987</td>\n",
       "      <td>12307</td>\n",
       "    </tr>\n",
       "    <tr>\n",
       "      <th>640837</th>\n",
       "      <td>925</td>\n",
       "      <td>6800</td>\n",
       "    </tr>\n",
       "    <tr>\n",
       "      <th>640838</th>\n",
       "      <td>725</td>\n",
       "      <td>5344</td>\n",
       "    </tr>\n",
       "    <tr>\n",
       "      <th>640839</th>\n",
       "      <td>0</td>\n",
       "      <td>0</td>\n",
       "    </tr>\n",
       "  </tbody>\n",
       "</table>\n",
       "<p>640840 rows × 2 columns</p>\n",
       "</div>"
      ],
      "text/plain": [
       "        nb_customers_on_day  sales\n",
       "0                       517   4422\n",
       "1                       694   8297\n",
       "2                       970   9729\n",
       "3                       473   6513\n",
       "4                      1068  10882\n",
       "...                     ...    ...\n",
       "640835                  483   4553\n",
       "640836                  987  12307\n",
       "640837                  925   6800\n",
       "640838                  725   5344\n",
       "640839                    0      0\n",
       "\n",
       "[640840 rows x 2 columns]"
      ]
     },
     "execution_count": 28,
     "metadata": {},
     "output_type": "execute_result"
    }
   ],
   "source": [
    "numerical"
   ]
  },
  {
   "cell_type": "markdown",
   "id": "5d570c29",
   "metadata": {},
   "source": [
    "#### Encoding Categorical Variables"
   ]
  },
  {
   "cell_type": "code",
   "execution_count": null,
   "id": "00a0950c",
   "metadata": {},
   "outputs": [],
   "source": [
    "encoder = OneHotEncoder(handle_unknown ='error', drop='first').fit(categorical)\n",
    "cat_encoded  = encoder.transform(categorical).toarray()\n",
    "cat_encoded_df = pd.DataFrame(data = cat_encoded, columns = encoder.get_feature_names_out())"
   ]
  },
  {
   "cell_type": "code",
   "execution_count": null,
   "id": "f431d427",
   "metadata": {},
   "outputs": [],
   "source": [
    "cat_encoded_df"
   ]
  },
  {
   "cell_type": "markdown",
   "id": "edb0f330",
   "metadata": {},
   "source": [
    "#### Transformations on numericals"
   ]
  },
  {
   "cell_type": "code",
   "execution_count": null,
   "id": "2adb56e8",
   "metadata": {},
   "outputs": [],
   "source": [
    "transformer = StandardScaler().fit(numerical)\n",
    "num_scaled = pd.DataFrame(transformer.transform(numerical), columns=numerical.columns)\n",
    "print(num_scaled.shape)\n",
    "num_scaled"
   ]
  },
  {
   "cell_type": "markdown",
   "id": "f921cf7c",
   "metadata": {},
   "source": [
    "#### Concatenating Num Stand. and Cat Encoded. "
   ]
  },
  {
   "cell_type": "code",
   "execution_count": null,
   "id": "c088ba87",
   "metadata": {},
   "outputs": [],
   "source": [
    "concat_data = pd.concat((num_scaled,cat_encoded_df), axis=1)"
   ]
  },
  {
   "cell_type": "code",
   "execution_count": null,
   "id": "c4f4481e",
   "metadata": {},
   "outputs": [],
   "source": [
    "concat_data"
   ]
  },
  {
   "cell_type": "markdown",
   "id": "cf6372a5",
   "metadata": {},
   "source": [
    "#### X/y Split "
   ]
  },
  {
   "cell_type": "code",
   "execution_count": null,
   "id": "b1518b30",
   "metadata": {},
   "outputs": [],
   "source": [
    "y = concat_data['sales']\n",
    "X = concat_data.drop(['sales'], axis=1)"
   ]
  },
  {
   "cell_type": "markdown",
   "id": "2b5d10ec",
   "metadata": {},
   "source": [
    "#### Train/Test split"
   ]
  },
  {
   "cell_type": "code",
   "execution_count": null,
   "id": "6eda5b81",
   "metadata": {},
   "outputs": [],
   "source": [
    "X_train, X_test, y_train, y_test = train_test_split(X, y, test_size=0.2, random_state=1224)\n",
    "\n",
    "display(X_train.shape)\n",
    "display(X_test.shape)\n",
    "display(y_train.shape)\n",
    "display(y_test.shape)"
   ]
  },
  {
   "cell_type": "markdown",
   "id": "c3e05904",
   "metadata": {},
   "source": [
    "#### Linear Regression"
   ]
  },
  {
   "cell_type": "code",
   "execution_count": null,
   "id": "ba0cfe85",
   "metadata": {},
   "outputs": [],
   "source": [
    "lm = linear_model.LinearRegression()\n",
    "lm.fit(X_train,y_train)"
   ]
  },
  {
   "cell_type": "code",
   "execution_count": null,
   "id": "ce697bc7",
   "metadata": {},
   "outputs": [],
   "source": [
    "from sklearn.metrics import r2_score\n",
    "predictions = lm.predict(X_train)\n",
    "r2_score(y_train, predictions)"
   ]
  },
  {
   "cell_type": "code",
   "execution_count": null,
   "id": "3517e983",
   "metadata": {},
   "outputs": [],
   "source": [
    "predictions_test = lm.predict(X_test)\n",
    "r2_score(y_test, predictions_test)"
   ]
  },
  {
   "cell_type": "code",
   "execution_count": null,
   "id": "ec6e8f84",
   "metadata": {},
   "outputs": [],
   "source": [
    "from sklearn.metrics import mean_squared_error\n",
    "mse=mean_squared_error(y_test,predictions_test)\n",
    "mse"
   ]
  },
  {
   "cell_type": "code",
   "execution_count": null,
   "id": "d356a561",
   "metadata": {},
   "outputs": [],
   "source": [
    "rmse = np.sqrt(mean_squared_error(y_test,predictions_test))\n",
    "rmse"
   ]
  },
  {
   "cell_type": "code",
   "execution_count": null,
   "id": "e08340ba",
   "metadata": {},
   "outputs": [],
   "source": [
    "lm.score(X_test, y_test)"
   ]
  },
  {
   "cell_type": "markdown",
   "id": "2cfc882c",
   "metadata": {},
   "source": [
    "#### KNN Regression\n"
   ]
  },
  {
   "cell_type": "code",
   "execution_count": null,
   "id": "0a9b396f",
   "metadata": {},
   "outputs": [],
   "source": [
    "knn = KNeighborsRegressor()\n",
    "knn.fit(X_train, y_train)"
   ]
  },
  {
   "cell_type": "code",
   "execution_count": null,
   "id": "50e76447",
   "metadata": {},
   "outputs": [],
   "source": [
    "knn.predict(X_test)"
   ]
  },
  {
   "cell_type": "code",
   "execution_count": null,
   "id": "07897a1e",
   "metadata": {},
   "outputs": [],
   "source": [
    "knn.score(X_test, y_test)"
   ]
  },
  {
   "cell_type": "markdown",
   "id": "d9ca9530",
   "metadata": {},
   "source": [
    "#### MLP Regression"
   ]
  },
  {
   "cell_type": "code",
   "execution_count": null,
   "id": "10d97af0",
   "metadata": {},
   "outputs": [],
   "source": [
    "mlpr = MLPRegressor()\n",
    "mlpr.fit(X_train, y_train)"
   ]
  },
  {
   "cell_type": "code",
   "execution_count": null,
   "id": "1693bf00",
   "metadata": {},
   "outputs": [],
   "source": [
    "mlpr.score(X_test, y_test)"
   ]
  },
  {
   "cell_type": "code",
   "execution_count": null,
   "id": "5ce4010e",
   "metadata": {},
   "outputs": [],
   "source": [
    "pred_m = mlpr.predict(X_test)\n",
    "\n",
    "print(\"precision: \",precision_score(y_test,pred_m))\n",
    "print(\"recall: \",recall_score(y_test,pred_m))\n",
    "print(\"f1: \",f1_score(y_test,pred_m))"
   ]
  },
  {
   "cell_type": "markdown",
   "id": "4e519d5a",
   "metadata": {},
   "source": [
    "#### Ramdom Forest Reg"
   ]
  },
  {
   "cell_type": "code",
   "execution_count": null,
   "id": "f6d3217f",
   "metadata": {},
   "outputs": [],
   "source": [
    "rfr=RFR()\n",
    "rfr.fit(X_train, y_train)"
   ]
  },
  {
   "cell_type": "code",
   "execution_count": null,
   "id": "24d2638f",
   "metadata": {},
   "outputs": [],
   "source": [
    "rfr.score(X_test, y_test)"
   ]
  },
  {
   "cell_type": "code",
   "execution_count": null,
   "id": "fc2556e9",
   "metadata": {},
   "outputs": [],
   "source": [
    "pred_r = rfr.predict(X_test)\n",
    "\n",
    "print(\"precision: \",precision_score(y_test,pred_r))\n",
    "print(\"recall: \",recall_score(y_test,pred_r))\n",
    "print(\"f1: \",f1_score(y_test,pred_r))"
   ]
  },
  {
   "cell_type": "code",
   "execution_count": null,
   "id": "827a317a",
   "metadata": {},
   "outputs": [],
   "source": []
  },
  {
   "cell_type": "code",
   "execution_count": null,
   "id": "6e7b1d19",
   "metadata": {},
   "outputs": [],
   "source": []
  },
  {
   "cell_type": "code",
   "execution_count": null,
   "id": "a6ca3b51",
   "metadata": {},
   "outputs": [],
   "source": [
    "categorical = data.select_dtypes(object)\n",
    "numerical = data.select_dtypes(np.number)\n",
    "\n",
    "\n",
    "encoder = OneHotEncoder(handle_unknown ='error', drop='first').fit(categorical)\n",
    "cat_encoded  = encoder.transform(categorical).toarray()\n",
    "cat_encoded_df = pd.DataFrame(data = cat_encoded, columns = encoder.get_feature_names_out())\n",
    "\n",
    "transformer = StandardScaler().fit(numerical)\n",
    "num_scaled = pd.DataFrame(transformer.transform(numerical), columns=numerical.columns)\n",
    "print(num_scaled.shape)\n",
    "num_scaled\n",
    "\n",
    "# concat_data = pd.concat((num_scaled,cat_encoded_df), axis=1)\n",
    "\n",
    "\n",
    "# Separate the features from the labels\n",
    "\n",
    "y = concat_data['sales']\n",
    "X = concat_data.drop(['sales'], axis=1)\n",
    "\n",
    "print(f'y: {y.shape}')\n",
    "print(f'X: {X.shape}')\n",
    "\n",
    "# Train-Test Split\n",
    "\n",
    "X_train, X_test, y_train, y_test = train_test_split(X, y, test_size=0.2, random_state=1224)\n",
    "\n",
    "# Linear regression\n",
    "\n",
    "lm = linear_model.LinearRegression()\n",
    "lm.fit(X_train,y_train)\n",
    "\n",
    "y_pred_lm=lm.predict(X_test)\n",
    "\n",
    "# KNN Regression\n",
    "\n",
    "knn = KNeighborsRegressor()\n",
    "knn.fit(X_train, y_train)\n",
    "\n",
    "y_pred_knn=knn.predict(X_test)\n",
    "\n",
    "# MLP Regression\n",
    "\n",
    "mlpr = MLPRegressor()\n",
    "mlpr.fit(X_train, y_train)\n",
    "\n",
    "y_pred_mlpr=mlpr.predict(X_test)\n",
    "\n",
    "# SGD Regression\n",
    "\n",
    "sgdr = SGDRegressor()\n",
    "sgdr.fit(X_train, y_train)\n",
    "\n",
    "y_pred_sgdr=sgdr.predict(X_test)\n",
    "\n",
    "# Lasso L1\n",
    "\n",
    "lasso=Lasso()\n",
    "lasso.fit(X_train, y_train)\n",
    "\n",
    "y_pred_lasso=lasso.predict(X_test)\n",
    "\n",
    "# Ridge L2\n",
    "\n",
    "ridge=Ridge()\n",
    "ridge.fit(X_train, y_train)\n",
    "\n",
    "y_pred_ridge=ridge.predict(X_test)\n",
    "\n",
    "# ElasticNet L1+L2\n",
    "\n",
    "elastic=ElasticNet()\n",
    "elastic.fit(X_train, y_train)\n",
    "\n",
    "y_pred_elastic=elastic.predict(X_test)\n",
    "\n",
    "# Random forest regressor\n",
    "\n",
    "rfr=RFR()\n",
    "rfr.fit(X_train, y_train)\n",
    "\n",
    "y_pred_rfr=rfr.predict(X_test)\n",
    "\n",
    "# XGB regressor\n",
    "\n",
    "xgbr=XGBR()\n",
    "xgbr.fit(X_train, y_train)\n",
    "\n",
    "y_pred_xgbr=xgbr.predict(X_test)\n",
    "\n",
    "# LGBM regressor\n",
    "\n",
    "lgbmr=LGBMR()\n",
    "lgbmr.fit(X_train, y_train)\n",
    "\n",
    "y_pred_lgbmr=lgbmr.predict(X_test)\n",
    "\n",
    "# Model validation\n",
    "\n",
    "models=[lm, knn, mlpr, sgdr, lasso, ridge, elastic, rfr, xgbr, lgbmr]\n",
    "model_names=['lm', 'knn', 'mlpr', 'sgdr', 'lasso', 'ridge', 'elastic', 'rfr', 'xgbr', 'lgbmr']\n",
    "preds=[y_pred_lm, y_pred_knn, y_pred_mlpr, y_pred_sgdr, y_pred_lasso, y_pred_ridge, y_pred_elastic, y_pred_rfr, y_pred_xgbr, y_pred_lgbmr]\n",
    "\n",
    "for i in range(len(models)):\n",
    "    print('=====================================')\n",
    "    # R2 validation\n",
    "    train_score=models[i].score(X_train, y_train)\n",
    "    test_score=models[i].score(X_test, y_test)\n",
    "    print ('Model: {}, train R2: {} -- test R2: {}'.format(model_names[i], train_score, test_score))\n",
    "    \n",
    "    predictions = models[i].predict(X_train)\n",
    "    \n",
    "    # MSE validation\n",
    "    train_mse=mean_squared_error(predictions, y_train)\n",
    "    test_mse=mean_squared_error(preds[i], y_test)\n",
    "    print ('Model: {}, train MSE: {} -- test MSE: {}'.format(model_names[i], train_mse, test_mse))\n",
    "\n",
    "    # RMSE validation\n",
    "    train_rmse=mean_squared_error(predictions, y_train)**0.5\n",
    "    test_rmse=mean_squared_error(preds[i], y_test)**0.5\n",
    "    print ('Model: {}, train RMSE: {} -- test RMSE: {}'.format(model_names[i], train_rmse, test_rmse))\n",
    "\n",
    "    # MAE validation\n",
    "    train_mae=mean_absolute_error(predictions, y_train)\n",
    "    test_mae=mean_absolute_error(preds[i], y_test)\n",
    "    print ('Model: {}, train MAE: {} -- test MAE: {}'.format(model_names[i], train_mae, test_mae))"
   ]
  },
  {
   "cell_type": "markdown",
   "id": "2948461f",
   "metadata": {},
   "source": [
    "#### Correlation Matrix"
   ]
  },
  {
   "cell_type": "code",
   "execution_count": null,
   "id": "26d2051a",
   "metadata": {},
   "outputs": [],
   "source": [
    "corr_matrix=concat_data.corr()  \n",
    "fig, ax = plt.subplots(figsize=(18, 8))\n",
    "ax = sns.heatmap(corr_matrix, annot=True)\n",
    "plt.show()"
   ]
  },
  {
   "cell_type": "code",
   "execution_count": null,
   "id": "2bd09b4b",
   "metadata": {},
   "outputs": [],
   "source": []
  },
  {
   "cell_type": "code",
   "execution_count": null,
   "id": "fb327bbf",
   "metadata": {},
   "outputs": [],
   "source": []
  },
  {
   "cell_type": "code",
   "execution_count": null,
   "id": "52baf2bd",
   "metadata": {},
   "outputs": [],
   "source": [
    "validation = pd.read_csv('validation_for_students.csv')\n",
    "print(validation.shape)\n",
    "validation.head()"
   ]
  },
  {
   "cell_type": "code",
   "execution_count": null,
   "id": "4e81c65e",
   "metadata": {},
   "outputs": [],
   "source": []
  },
  {
   "cell_type": "code",
   "execution_count": null,
   "id": "a7b07632",
   "metadata": {},
   "outputs": [],
   "source": []
  },
  {
   "cell_type": "code",
   "execution_count": null,
   "id": "37f5a206",
   "metadata": {},
   "outputs": [],
   "source": []
  },
  {
   "cell_type": "code",
   "execution_count": null,
   "id": "d2763046",
   "metadata": {},
   "outputs": [],
   "source": []
  },
  {
   "cell_type": "code",
   "execution_count": null,
   "id": "a044620c",
   "metadata": {},
   "outputs": [],
   "source": []
  },
  {
   "cell_type": "code",
   "execution_count": null,
   "id": "0f55f725",
   "metadata": {},
   "outputs": [],
   "source": []
  },
  {
   "cell_type": "code",
   "execution_count": null,
   "id": "af81bc34",
   "metadata": {},
   "outputs": [],
   "source": []
  },
  {
   "cell_type": "code",
   "execution_count": null,
   "id": "fa593dbf",
   "metadata": {},
   "outputs": [],
   "source": []
  }
 ],
 "metadata": {
  "kernelspec": {
   "display_name": "Python 3 (ipykernel)",
   "language": "python",
   "name": "python3"
  },
  "language_info": {
   "codemirror_mode": {
    "name": "ipython",
    "version": 3
   },
   "file_extension": ".py",
   "mimetype": "text/x-python",
   "name": "python",
   "nbconvert_exporter": "python",
   "pygments_lexer": "ipython3",
   "version": "3.9.13"
  }
 },
 "nbformat": 4,
 "nbformat_minor": 5
}
