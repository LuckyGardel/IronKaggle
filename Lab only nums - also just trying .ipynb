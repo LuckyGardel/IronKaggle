{
 "cells": [
  {
   "cell_type": "markdown",
   "id": "22b3f630",
   "metadata": {},
   "source": [
    "#### Importing Libraries"
   ]
  },
  {
   "cell_type": "code",
   "execution_count": 1,
   "id": "6c1a4672",
   "metadata": {},
   "outputs": [],
   "source": [
    "import pandas as pd\n",
    "import numpy as np\n",
    "import matplotlib.pyplot as plt\n",
    "import seaborn as sns\n",
    "import math\n",
    "from sklearn import linear_model\n",
    "from sklearn.model_selection import train_test_split\n",
    "from sklearn.metrics import r2_score\n",
    "from sklearn.metrics import mean_squared_error\n",
    "from sklearn.linear_model import LogisticRegression\n",
    "from sklearn.preprocessing import StandardScaler"
   ]
  },
  {
   "cell_type": "markdown",
   "id": "d18e8937",
   "metadata": {},
   "source": [
    "#### Loading Data"
   ]
  },
  {
   "cell_type": "code",
   "execution_count": 2,
   "id": "99eb80c7",
   "metadata": {},
   "outputs": [
    {
     "name": "stdout",
     "output_type": "stream",
     "text": [
      "(640840, 10)\n"
     ]
    },
    {
     "data": {
      "text/html": [
       "<div>\n",
       "<style scoped>\n",
       "    .dataframe tbody tr th:only-of-type {\n",
       "        vertical-align: middle;\n",
       "    }\n",
       "\n",
       "    .dataframe tbody tr th {\n",
       "        vertical-align: top;\n",
       "    }\n",
       "\n",
       "    .dataframe thead th {\n",
       "        text-align: right;\n",
       "    }\n",
       "</style>\n",
       "<table border=\"1\" class=\"dataframe\">\n",
       "  <thead>\n",
       "    <tr style=\"text-align: right;\">\n",
       "      <th></th>\n",
       "      <th>Unnamed: 0</th>\n",
       "      <th>store_ID</th>\n",
       "      <th>day_of_week</th>\n",
       "      <th>date</th>\n",
       "      <th>nb_customers_on_day</th>\n",
       "      <th>open</th>\n",
       "      <th>promotion</th>\n",
       "      <th>state_holiday</th>\n",
       "      <th>school_holiday</th>\n",
       "      <th>sales</th>\n",
       "    </tr>\n",
       "  </thead>\n",
       "  <tbody>\n",
       "    <tr>\n",
       "      <th>0</th>\n",
       "      <td>425390</td>\n",
       "      <td>366</td>\n",
       "      <td>4</td>\n",
       "      <td>2013-04-18</td>\n",
       "      <td>517</td>\n",
       "      <td>1</td>\n",
       "      <td>0</td>\n",
       "      <td>0</td>\n",
       "      <td>0</td>\n",
       "      <td>4422</td>\n",
       "    </tr>\n",
       "    <tr>\n",
       "      <th>1</th>\n",
       "      <td>291687</td>\n",
       "      <td>394</td>\n",
       "      <td>6</td>\n",
       "      <td>2015-04-11</td>\n",
       "      <td>694</td>\n",
       "      <td>1</td>\n",
       "      <td>0</td>\n",
       "      <td>0</td>\n",
       "      <td>0</td>\n",
       "      <td>8297</td>\n",
       "    </tr>\n",
       "    <tr>\n",
       "      <th>2</th>\n",
       "      <td>411278</td>\n",
       "      <td>807</td>\n",
       "      <td>4</td>\n",
       "      <td>2013-08-29</td>\n",
       "      <td>970</td>\n",
       "      <td>1</td>\n",
       "      <td>1</td>\n",
       "      <td>0</td>\n",
       "      <td>0</td>\n",
       "      <td>9729</td>\n",
       "    </tr>\n",
       "    <tr>\n",
       "      <th>3</th>\n",
       "      <td>664714</td>\n",
       "      <td>802</td>\n",
       "      <td>2</td>\n",
       "      <td>2013-05-28</td>\n",
       "      <td>473</td>\n",
       "      <td>1</td>\n",
       "      <td>1</td>\n",
       "      <td>0</td>\n",
       "      <td>0</td>\n",
       "      <td>6513</td>\n",
       "    </tr>\n",
       "    <tr>\n",
       "      <th>4</th>\n",
       "      <td>540835</td>\n",
       "      <td>726</td>\n",
       "      <td>4</td>\n",
       "      <td>2013-10-10</td>\n",
       "      <td>1068</td>\n",
       "      <td>1</td>\n",
       "      <td>1</td>\n",
       "      <td>0</td>\n",
       "      <td>0</td>\n",
       "      <td>10882</td>\n",
       "    </tr>\n",
       "  </tbody>\n",
       "</table>\n",
       "</div>"
      ],
      "text/plain": [
       "   Unnamed: 0  store_ID  day_of_week        date  nb_customers_on_day  open  \\\n",
       "0      425390       366            4  2013-04-18                  517     1   \n",
       "1      291687       394            6  2015-04-11                  694     1   \n",
       "2      411278       807            4  2013-08-29                  970     1   \n",
       "3      664714       802            2  2013-05-28                  473     1   \n",
       "4      540835       726            4  2013-10-10                 1068     1   \n",
       "\n",
       "   promotion state_holiday  school_holiday  sales  \n",
       "0          0             0               0   4422  \n",
       "1          0             0               0   8297  \n",
       "2          1             0               0   9729  \n",
       "3          1             0               0   6513  \n",
       "4          1             0               0  10882  "
      ]
     },
     "execution_count": 2,
     "metadata": {},
     "output_type": "execute_result"
    }
   ],
   "source": [
    "data = pd.read_csv('sales.csv')\n",
    "print(data.shape)\n",
    "data.head()"
   ]
  },
  {
   "cell_type": "markdown",
   "id": "1c5483f4",
   "metadata": {},
   "source": [
    "#### Checking Info and Dtypes"
   ]
  },
  {
   "cell_type": "code",
   "execution_count": 3,
   "id": "6cc07a77",
   "metadata": {},
   "outputs": [
    {
     "data": {
      "text/plain": [
       "<bound method DataFrame.info of         Unnamed: 0  store_ID  day_of_week        date  nb_customers_on_day  \\\n",
       "0           425390       366            4  2013-04-18                  517   \n",
       "1           291687       394            6  2015-04-11                  694   \n",
       "2           411278       807            4  2013-08-29                  970   \n",
       "3           664714       802            2  2013-05-28                  473   \n",
       "4           540835       726            4  2013-10-10                 1068   \n",
       "...            ...       ...          ...         ...                  ...   \n",
       "640835      359783       409            6  2013-10-26                  483   \n",
       "640836      152315        97            1  2014-04-14                  987   \n",
       "640837      117952       987            1  2014-07-07                  925   \n",
       "640838      435829      1084            4  2014-06-12                  725   \n",
       "640839      305711       695            7  2015-05-03                    0   \n",
       "\n",
       "        open  promotion state_holiday  school_holiday  sales  \n",
       "0          1          0             0               0   4422  \n",
       "1          1          0             0               0   8297  \n",
       "2          1          1             0               0   9729  \n",
       "3          1          1             0               0   6513  \n",
       "4          1          1             0               0  10882  \n",
       "...      ...        ...           ...             ...    ...  \n",
       "640835     1          0             0               0   4553  \n",
       "640836     1          1             0               0  12307  \n",
       "640837     1          0             0               0   6800  \n",
       "640838     1          0             0               0   5344  \n",
       "640839     0          0             0               0      0  \n",
       "\n",
       "[640840 rows x 10 columns]>"
      ]
     },
     "execution_count": 3,
     "metadata": {},
     "output_type": "execute_result"
    }
   ],
   "source": [
    "data.info"
   ]
  },
  {
   "cell_type": "code",
   "execution_count": 4,
   "id": "86194e41",
   "metadata": {
    "scrolled": true
   },
   "outputs": [
    {
     "data": {
      "text/plain": [
       "Unnamed: 0              int64\n",
       "store_ID                int64\n",
       "day_of_week             int64\n",
       "date                   object\n",
       "nb_customers_on_day     int64\n",
       "open                    int64\n",
       "promotion               int64\n",
       "state_holiday          object\n",
       "school_holiday          int64\n",
       "sales                   int64\n",
       "dtype: object"
      ]
     },
     "execution_count": 4,
     "metadata": {},
     "output_type": "execute_result"
    }
   ],
   "source": [
    "data.dtypes"
   ]
  },
  {
   "cell_type": "markdown",
   "id": "6a2097ae",
   "metadata": {},
   "source": [
    "#### Checking Nans & Duplicates"
   ]
  },
  {
   "cell_type": "code",
   "execution_count": 5,
   "id": "343a26d3",
   "metadata": {},
   "outputs": [
    {
     "data": {
      "text/plain": [
       "0"
      ]
     },
     "execution_count": 5,
     "metadata": {},
     "output_type": "execute_result"
    }
   ],
   "source": [
    "data.isna().sum().sum()"
   ]
  },
  {
   "cell_type": "code",
   "execution_count": 6,
   "id": "3fd7d303",
   "metadata": {},
   "outputs": [
    {
     "data": {
      "text/plain": [
       "0"
      ]
     },
     "execution_count": 6,
     "metadata": {},
     "output_type": "execute_result"
    }
   ],
   "source": [
    "data.duplicated().sum()"
   ]
  },
  {
   "cell_type": "markdown",
   "id": "8171994f",
   "metadata": {},
   "source": [
    "#### Checking values inside columns "
   ]
  },
  {
   "cell_type": "code",
   "execution_count": 7,
   "id": "b1128cbf",
   "metadata": {},
   "outputs": [
    {
     "data": {
      "text/plain": [
       "425390    1\n",
       "470563    1\n",
       "581093    1\n",
       "449511    1\n",
       "671617    1\n",
       "         ..\n",
       "359805    1\n",
       "159087    1\n",
       "52456     1\n",
       "46534     1\n",
       "305711    1\n",
       "Name: Unnamed: 0, Length: 640840, dtype: int64"
      ]
     },
     "execution_count": 7,
     "metadata": {},
     "output_type": "execute_result"
    }
   ],
   "source": [
    "data['Unnamed: 0'].value_counts()"
   ]
  },
  {
   "cell_type": "code",
   "execution_count": 8,
   "id": "79914e76",
   "metadata": {},
   "outputs": [],
   "source": [
    "data = data.drop(['Unnamed: 0'], axis = 1)"
   ]
  },
  {
   "cell_type": "markdown",
   "id": "9666affb",
   "metadata": {},
   "source": [
    "We can drop this column as it doenst give any relevant info. There is one for each row. "
   ]
  },
  {
   "cell_type": "code",
   "execution_count": 9,
   "id": "cf2e238e",
   "metadata": {},
   "outputs": [
    {
     "data": {
      "text/plain": [
       "1045    645\n",
       "309     636\n",
       "754     635\n",
       "432     634\n",
       "286     634\n",
       "       ... \n",
       "1004    448\n",
       "287     448\n",
       "1065    445\n",
       "81      438\n",
       "542     436\n",
       "Name: store_ID, Length: 1115, dtype: int64"
      ]
     },
     "execution_count": 9,
     "metadata": {},
     "output_type": "execute_result"
    }
   ],
   "source": [
    "data['store_ID'].value_counts()"
   ]
  },
  {
   "cell_type": "markdown",
   "id": "ebe86542",
   "metadata": {},
   "source": [
    "These are the ids of the different stores "
   ]
  },
  {
   "cell_type": "code",
   "execution_count": 10,
   "id": "ab7c9a92",
   "metadata": {},
   "outputs": [
    {
     "data": {
      "text/plain": [
       "5    92138\n",
       "4    91972\n",
       "2    91686\n",
       "3    91651\n",
       "6    91347\n",
       "7    91075\n",
       "1    90971\n",
       "Name: day_of_week, dtype: int64"
      ]
     },
     "execution_count": 10,
     "metadata": {},
     "output_type": "execute_result"
    }
   ],
   "source": [
    "data['day_of_week'].value_counts()"
   ]
  },
  {
   "cell_type": "markdown",
   "id": "408ff9e6",
   "metadata": {},
   "source": [
    "Days of the week encoded as numerical from 1 (monday) to 7 (sunday)"
   ]
  },
  {
   "cell_type": "code",
   "execution_count": 11,
   "id": "3e482f84",
   "metadata": {},
   "outputs": [
    {
     "data": {
      "text/plain": [
       "2015-05-10    756\n",
       "2014-05-23    746\n",
       "2014-02-20    745\n",
       "2014-05-22    741\n",
       "2014-03-21    740\n",
       "             ... \n",
       "2014-10-20    562\n",
       "2014-09-11    561\n",
       "2014-12-09    561\n",
       "2014-09-27    559\n",
       "2014-08-17    558\n",
       "Name: date, Length: 942, dtype: int64"
      ]
     },
     "execution_count": 11,
     "metadata": {},
     "output_type": "execute_result"
    }
   ],
   "source": [
    "data['date'].value_counts()"
   ]
  },
  {
   "cell_type": "code",
   "execution_count": 12,
   "id": "563c24a8",
   "metadata": {},
   "outputs": [],
   "source": [
    "data['date'] = pd.to_datetime(data['date'])"
   ]
  },
  {
   "cell_type": "markdown",
   "id": "111cde91",
   "metadata": {},
   "source": [
    "Date as a string, we convert this to date format "
   ]
  },
  {
   "cell_type": "code",
   "execution_count": 13,
   "id": "2830dbc9",
   "metadata": {},
   "outputs": [],
   "source": [
    "data['month_of_year'] =  data['date'].dt.month"
   ]
  },
  {
   "cell_type": "markdown",
   "id": "e7dd2538",
   "metadata": {},
   "source": [
    "Creating a new column containing the month info."
   ]
  },
  {
   "cell_type": "code",
   "execution_count": 14,
   "id": "cf16a607",
   "metadata": {},
   "outputs": [],
   "source": [
    "data = data.drop(['date'], axis = 1)"
   ]
  },
  {
   "cell_type": "markdown",
   "id": "5f5a02d1",
   "metadata": {},
   "source": [
    "We can drop the date column as we have the info that we want from it in day of week and month of year"
   ]
  },
  {
   "cell_type": "code",
   "execution_count": 15,
   "id": "b8e21e34",
   "metadata": {},
   "outputs": [
    {
     "data": {
      "text/plain": [
       "0       108854\n",
       "560       1539\n",
       "517       1507\n",
       "571       1493\n",
       "528       1492\n",
       "         ...  \n",
       "3969         1\n",
       "4496         1\n",
       "4578         1\n",
       "4925         1\n",
       "4003         1\n",
       "Name: nb_customers_on_day, Length: 3886, dtype: int64"
      ]
     },
     "execution_count": 15,
     "metadata": {},
     "output_type": "execute_result"
    }
   ],
   "source": [
    "data['nb_customers_on_day'].value_counts()"
   ]
  },
  {
   "cell_type": "markdown",
   "id": "a235ebcd",
   "metadata": {},
   "source": [
    "Number of customers received per day "
   ]
  },
  {
   "cell_type": "code",
   "execution_count": 16,
   "id": "751d3586",
   "metadata": {},
   "outputs": [
    {
     "data": {
      "text/plain": [
       "1    532016\n",
       "0    108824\n",
       "Name: open, dtype: int64"
      ]
     },
     "execution_count": 16,
     "metadata": {},
     "output_type": "execute_result"
    }
   ],
   "source": [
    "data['open'].value_counts()"
   ]
  },
  {
   "cell_type": "markdown",
   "id": "f8b5e797",
   "metadata": {},
   "source": [
    "Boolean indicating 0 shop closed 1 shop opened"
   ]
  },
  {
   "cell_type": "code",
   "execution_count": 17,
   "id": "3383f268",
   "metadata": {},
   "outputs": [
    {
     "data": {
      "text/plain": [
       "0    396220\n",
       "1    244620\n",
       "Name: promotion, dtype: int64"
      ]
     },
     "execution_count": 17,
     "metadata": {},
     "output_type": "execute_result"
    }
   ],
   "source": [
    "data['promotion'].value_counts()"
   ]
  },
  {
   "cell_type": "markdown",
   "id": "5913fe44",
   "metadata": {},
   "source": [
    "Boolean indicating 0 No promo 1 promo Active"
   ]
  },
  {
   "cell_type": "code",
   "execution_count": 18,
   "id": "69a895a9",
   "metadata": {},
   "outputs": [
    {
     "data": {
      "text/plain": [
       "0    621160\n",
       "a     12842\n",
       "b      4214\n",
       "c      2624\n",
       "Name: state_holiday, dtype: int64"
      ]
     },
     "execution_count": 18,
     "metadata": {},
     "output_type": "execute_result"
    }
   ],
   "source": [
    "data['state_holiday'].value_counts()"
   ]
  },
  {
   "cell_type": "markdown",
   "id": "6882508d",
   "metadata": {},
   "source": [
    "Grouping values a,b & c as 1. They all mean Holidays"
   ]
  },
  {
   "cell_type": "code",
   "execution_count": 19,
   "id": "81de40c4",
   "metadata": {},
   "outputs": [
    {
     "data": {
      "text/plain": [
       "0    621160\n",
       "1     19680\n",
       "Name: state_holiday, dtype: int64"
      ]
     },
     "execution_count": 19,
     "metadata": {},
     "output_type": "execute_result"
    }
   ],
   "source": [
    "data['state_holiday'] = np.where(data.state_holiday.isin(['a','b','c']),'1', data.state_holiday)\n",
    "data['state_holiday'].value_counts()"
   ]
  },
  {
   "cell_type": "markdown",
   "id": "dd7f5a46",
   "metadata": {},
   "source": [
    "Boolean indicating 0 No Holiday 1 Holiday On"
   ]
  },
  {
   "cell_type": "code",
   "execution_count": 20,
   "id": "ed4ebc64",
   "metadata": {},
   "outputs": [],
   "source": [
    "data['state_holiday'] = data['state_holiday'].astype('int64')"
   ]
  },
  {
   "cell_type": "markdown",
   "id": "e839f631",
   "metadata": {},
   "source": [
    "Fixing dtypes as int64 "
   ]
  },
  {
   "cell_type": "code",
   "execution_count": 21,
   "id": "2279a678",
   "metadata": {},
   "outputs": [
    {
     "data": {
      "text/plain": [
       "0    526468\n",
       "1    114372\n",
       "Name: school_holiday, dtype: int64"
      ]
     },
     "execution_count": 21,
     "metadata": {},
     "output_type": "execute_result"
    }
   ],
   "source": [
    "data['school_holiday'].value_counts()"
   ]
  },
  {
   "cell_type": "code",
   "execution_count": 22,
   "id": "435e6f09",
   "metadata": {},
   "outputs": [
    {
     "data": {
      "text/plain": [
       "1    526468\n",
       "0    114372\n",
       "Name: school_holiday, dtype: int64"
      ]
     },
     "execution_count": 22,
     "metadata": {},
     "output_type": "execute_result"
    }
   ],
   "source": [
    "data['school_holiday'] = data['school_holiday'].replace({0:1, 1:0})\n",
    "data['school_holiday'].value_counts()"
   ]
  },
  {
   "cell_type": "markdown",
   "id": "c474aec1",
   "metadata": {},
   "source": [
    "Boolean indicating 0 No Holiday 1 Holiday On"
   ]
  },
  {
   "cell_type": "code",
   "execution_count": 23,
   "id": "adfd74d3",
   "metadata": {},
   "outputs": [
    {
     "data": {
      "text/plain": [
       "0        108855\n",
       "5674        146\n",
       "6049        134\n",
       "5449        130\n",
       "5723        128\n",
       "          ...  \n",
       "17856         1\n",
       "24020         1\n",
       "20922         1\n",
       "16375         1\n",
       "16737         1\n",
       "Name: sales, Length: 20129, dtype: int64"
      ]
     },
     "execution_count": 23,
     "metadata": {},
     "output_type": "execute_result"
    }
   ],
   "source": [
    "data['sales'].value_counts()"
   ]
  },
  {
   "cell_type": "code",
   "execution_count": 24,
   "id": "747f3922",
   "metadata": {},
   "outputs": [],
   "source": [
    "data['sales'] = data['sales'].astype('float64')"
   ]
  },
  {
   "cell_type": "markdown",
   "id": "5e2f0035",
   "metadata": {},
   "source": [
    "Fixing dtypes as float64 because sales can be decimals "
   ]
  },
  {
   "cell_type": "markdown",
   "id": "f6a58c3f",
   "metadata": {},
   "source": [
    "#### Re Checking Dtypes"
   ]
  },
  {
   "cell_type": "code",
   "execution_count": 25,
   "id": "4dfa13bf",
   "metadata": {},
   "outputs": [
    {
     "data": {
      "text/html": [
       "<div>\n",
       "<style scoped>\n",
       "    .dataframe tbody tr th:only-of-type {\n",
       "        vertical-align: middle;\n",
       "    }\n",
       "\n",
       "    .dataframe tbody tr th {\n",
       "        vertical-align: top;\n",
       "    }\n",
       "\n",
       "    .dataframe thead th {\n",
       "        text-align: right;\n",
       "    }\n",
       "</style>\n",
       "<table border=\"1\" class=\"dataframe\">\n",
       "  <thead>\n",
       "    <tr style=\"text-align: right;\">\n",
       "      <th></th>\n",
       "      <th>store_ID</th>\n",
       "      <th>day_of_week</th>\n",
       "      <th>nb_customers_on_day</th>\n",
       "      <th>open</th>\n",
       "      <th>promotion</th>\n",
       "      <th>state_holiday</th>\n",
       "      <th>school_holiday</th>\n",
       "      <th>sales</th>\n",
       "      <th>month_of_year</th>\n",
       "    </tr>\n",
       "  </thead>\n",
       "  <tbody>\n",
       "    <tr>\n",
       "      <th>0</th>\n",
       "      <td>366</td>\n",
       "      <td>4</td>\n",
       "      <td>517</td>\n",
       "      <td>1</td>\n",
       "      <td>0</td>\n",
       "      <td>0</td>\n",
       "      <td>1</td>\n",
       "      <td>4422.0</td>\n",
       "      <td>4</td>\n",
       "    </tr>\n",
       "    <tr>\n",
       "      <th>1</th>\n",
       "      <td>394</td>\n",
       "      <td>6</td>\n",
       "      <td>694</td>\n",
       "      <td>1</td>\n",
       "      <td>0</td>\n",
       "      <td>0</td>\n",
       "      <td>1</td>\n",
       "      <td>8297.0</td>\n",
       "      <td>4</td>\n",
       "    </tr>\n",
       "    <tr>\n",
       "      <th>2</th>\n",
       "      <td>807</td>\n",
       "      <td>4</td>\n",
       "      <td>970</td>\n",
       "      <td>1</td>\n",
       "      <td>1</td>\n",
       "      <td>0</td>\n",
       "      <td>1</td>\n",
       "      <td>9729.0</td>\n",
       "      <td>8</td>\n",
       "    </tr>\n",
       "    <tr>\n",
       "      <th>3</th>\n",
       "      <td>802</td>\n",
       "      <td>2</td>\n",
       "      <td>473</td>\n",
       "      <td>1</td>\n",
       "      <td>1</td>\n",
       "      <td>0</td>\n",
       "      <td>1</td>\n",
       "      <td>6513.0</td>\n",
       "      <td>5</td>\n",
       "    </tr>\n",
       "    <tr>\n",
       "      <th>4</th>\n",
       "      <td>726</td>\n",
       "      <td>4</td>\n",
       "      <td>1068</td>\n",
       "      <td>1</td>\n",
       "      <td>1</td>\n",
       "      <td>0</td>\n",
       "      <td>1</td>\n",
       "      <td>10882.0</td>\n",
       "      <td>10</td>\n",
       "    </tr>\n",
       "    <tr>\n",
       "      <th>...</th>\n",
       "      <td>...</td>\n",
       "      <td>...</td>\n",
       "      <td>...</td>\n",
       "      <td>...</td>\n",
       "      <td>...</td>\n",
       "      <td>...</td>\n",
       "      <td>...</td>\n",
       "      <td>...</td>\n",
       "      <td>...</td>\n",
       "    </tr>\n",
       "    <tr>\n",
       "      <th>640835</th>\n",
       "      <td>409</td>\n",
       "      <td>6</td>\n",
       "      <td>483</td>\n",
       "      <td>1</td>\n",
       "      <td>0</td>\n",
       "      <td>0</td>\n",
       "      <td>1</td>\n",
       "      <td>4553.0</td>\n",
       "      <td>10</td>\n",
       "    </tr>\n",
       "    <tr>\n",
       "      <th>640836</th>\n",
       "      <td>97</td>\n",
       "      <td>1</td>\n",
       "      <td>987</td>\n",
       "      <td>1</td>\n",
       "      <td>1</td>\n",
       "      <td>0</td>\n",
       "      <td>1</td>\n",
       "      <td>12307.0</td>\n",
       "      <td>4</td>\n",
       "    </tr>\n",
       "    <tr>\n",
       "      <th>640837</th>\n",
       "      <td>987</td>\n",
       "      <td>1</td>\n",
       "      <td>925</td>\n",
       "      <td>1</td>\n",
       "      <td>0</td>\n",
       "      <td>0</td>\n",
       "      <td>1</td>\n",
       "      <td>6800.0</td>\n",
       "      <td>7</td>\n",
       "    </tr>\n",
       "    <tr>\n",
       "      <th>640838</th>\n",
       "      <td>1084</td>\n",
       "      <td>4</td>\n",
       "      <td>725</td>\n",
       "      <td>1</td>\n",
       "      <td>0</td>\n",
       "      <td>0</td>\n",
       "      <td>1</td>\n",
       "      <td>5344.0</td>\n",
       "      <td>6</td>\n",
       "    </tr>\n",
       "    <tr>\n",
       "      <th>640839</th>\n",
       "      <td>695</td>\n",
       "      <td>7</td>\n",
       "      <td>0</td>\n",
       "      <td>0</td>\n",
       "      <td>0</td>\n",
       "      <td>0</td>\n",
       "      <td>1</td>\n",
       "      <td>0.0</td>\n",
       "      <td>5</td>\n",
       "    </tr>\n",
       "  </tbody>\n",
       "</table>\n",
       "<p>640840 rows × 9 columns</p>\n",
       "</div>"
      ],
      "text/plain": [
       "        store_ID  day_of_week  nb_customers_on_day  open  promotion  \\\n",
       "0            366            4                  517     1          0   \n",
       "1            394            6                  694     1          0   \n",
       "2            807            4                  970     1          1   \n",
       "3            802            2                  473     1          1   \n",
       "4            726            4                 1068     1          1   \n",
       "...          ...          ...                  ...   ...        ...   \n",
       "640835       409            6                  483     1          0   \n",
       "640836        97            1                  987     1          1   \n",
       "640837       987            1                  925     1          0   \n",
       "640838      1084            4                  725     1          0   \n",
       "640839       695            7                    0     0          0   \n",
       "\n",
       "        state_holiday  school_holiday    sales  month_of_year  \n",
       "0                   0               1   4422.0              4  \n",
       "1                   0               1   8297.0              4  \n",
       "2                   0               1   9729.0              8  \n",
       "3                   0               1   6513.0              5  \n",
       "4                   0               1  10882.0             10  \n",
       "...               ...             ...      ...            ...  \n",
       "640835              0               1   4553.0             10  \n",
       "640836              0               1  12307.0              4  \n",
       "640837              0               1   6800.0              7  \n",
       "640838              0               1   5344.0              6  \n",
       "640839              0               1      0.0              5  \n",
       "\n",
       "[640840 rows x 9 columns]"
      ]
     },
     "execution_count": 25,
     "metadata": {},
     "output_type": "execute_result"
    }
   ],
   "source": [
    "data"
   ]
  },
  {
   "cell_type": "code",
   "execution_count": 26,
   "id": "570bb1e2",
   "metadata": {},
   "outputs": [
    {
     "data": {
      "text/plain": [
       "store_ID                 int64\n",
       "day_of_week              int64\n",
       "nb_customers_on_day      int64\n",
       "open                     int64\n",
       "promotion                int64\n",
       "state_holiday            int64\n",
       "school_holiday           int64\n",
       "sales                  float64\n",
       "month_of_year            int64\n",
       "dtype: object"
      ]
     },
     "execution_count": 26,
     "metadata": {},
     "output_type": "execute_result"
    }
   ],
   "source": [
    "data.dtypes"
   ]
  },
  {
   "cell_type": "markdown",
   "id": "cf21e2da",
   "metadata": {},
   "source": [
    "#### Group total sales and nº of custtomeers by store ID & Day  of the week "
   ]
  },
  {
   "cell_type": "code",
   "execution_count": 44,
   "id": "3d533f73",
   "metadata": {},
   "outputs": [
    {
     "data": {
      "text/html": [
       "<div>\n",
       "<style scoped>\n",
       "    .dataframe tbody tr th:only-of-type {\n",
       "        vertical-align: middle;\n",
       "    }\n",
       "\n",
       "    .dataframe tbody tr th {\n",
       "        vertical-align: top;\n",
       "    }\n",
       "\n",
       "    .dataframe thead th {\n",
       "        text-align: right;\n",
       "    }\n",
       "</style>\n",
       "<table border=\"1\" class=\"dataframe\">\n",
       "  <thead>\n",
       "    <tr style=\"text-align: right;\">\n",
       "      <th></th>\n",
       "      <th></th>\n",
       "      <th>sales</th>\n",
       "      <th>nb_customers_on_day</th>\n",
       "    </tr>\n",
       "    <tr>\n",
       "      <th>store_ID</th>\n",
       "      <th>day_of_week</th>\n",
       "      <th></th>\n",
       "      <th></th>\n",
       "    </tr>\n",
       "  </thead>\n",
       "  <tbody>\n",
       "    <tr>\n",
       "      <th>262</th>\n",
       "      <th>7</th>\n",
       "      <td>2472935.0</td>\n",
       "      <td>378635</td>\n",
       "    </tr>\n",
       "    <tr>\n",
       "      <th rowspan=\"2\" valign=\"top\">817</th>\n",
       "      <th>1</th>\n",
       "      <td>1999023.0</td>\n",
       "      <td>275256</td>\n",
       "    </tr>\n",
       "    <tr>\n",
       "      <th>4</th>\n",
       "      <td>1954055.0</td>\n",
       "      <td>284220</td>\n",
       "    </tr>\n",
       "    <tr>\n",
       "      <th>513</th>\n",
       "      <th>1</th>\n",
       "      <td>1948643.0</td>\n",
       "      <td>215507</td>\n",
       "    </tr>\n",
       "    <tr>\n",
       "      <th>817</th>\n",
       "      <th>2</th>\n",
       "      <td>1919305.0</td>\n",
       "      <td>273103</td>\n",
       "    </tr>\n",
       "    <tr>\n",
       "      <th>...</th>\n",
       "      <th>...</th>\n",
       "      <td>...</td>\n",
       "      <td>...</td>\n",
       "    </tr>\n",
       "    <tr>\n",
       "      <th>575</th>\n",
       "      <th>7</th>\n",
       "      <td>0.0</td>\n",
       "      <td>0</td>\n",
       "    </tr>\n",
       "    <tr>\n",
       "      <th>576</th>\n",
       "      <th>7</th>\n",
       "      <td>0.0</td>\n",
       "      <td>0</td>\n",
       "    </tr>\n",
       "    <tr>\n",
       "      <th>577</th>\n",
       "      <th>7</th>\n",
       "      <td>0.0</td>\n",
       "      <td>0</td>\n",
       "    </tr>\n",
       "    <tr>\n",
       "      <th>579</th>\n",
       "      <th>7</th>\n",
       "      <td>0.0</td>\n",
       "      <td>0</td>\n",
       "    </tr>\n",
       "    <tr>\n",
       "      <th>1115</th>\n",
       "      <th>7</th>\n",
       "      <td>0.0</td>\n",
       "      <td>0</td>\n",
       "    </tr>\n",
       "  </tbody>\n",
       "</table>\n",
       "<p>7805 rows × 2 columns</p>\n",
       "</div>"
      ],
      "text/plain": [
       "                          sales  nb_customers_on_day\n",
       "store_ID day_of_week                                \n",
       "262      7            2472935.0               378635\n",
       "817      1            1999023.0               275256\n",
       "         4            1954055.0               284220\n",
       "513      1            1948643.0               215507\n",
       "817      2            1919305.0               273103\n",
       "...                         ...                  ...\n",
       "575      7                  0.0                    0\n",
       "576      7                  0.0                    0\n",
       "577      7                  0.0                    0\n",
       "579      7                  0.0                    0\n",
       "1115     7                  0.0                    0\n",
       "\n",
       "[7805 rows x 2 columns]"
      ]
     },
     "execution_count": 44,
     "metadata": {},
     "output_type": "execute_result"
    }
   ],
   "source": [
    "data_grp_ID = data.groupby(['store_ID', 'day_of_week']).agg({'sales' : sum, 'nb_customers_on_day': sum})\n",
    "data_grp_ID.sort_values(by = ['sales'], ascending= False)"
   ]
  },
  {
   "cell_type": "markdown",
   "id": "7cf7aa16",
   "metadata": {},
   "source": [
    "#### Correlation Matrix"
   ]
  },
  {
   "cell_type": "code",
   "execution_count": 27,
   "id": "6eb31430",
   "metadata": {},
   "outputs": [
    {
     "data": {
      "image/png": "[encoded data removed]",
      "text/plain": [
       "<Figure size 1800x800 with 2 Axes>"
      ]
     },
     "metadata": {},
     "output_type": "display_data"
    }
   ],
   "source": [
    "corr_matrix=data.corr()  \n",
    "fig, ax = plt.subplots(figsize=(18, 8))\n",
    "ax = sns.heatmap(corr_matrix, annot=True)\n",
    "plt.show()"
   ]
  },
  {
   "cell_type": "markdown",
   "id": "97284789",
   "metadata": {},
   "source": [
    "#### X/y split"
   ]
  },
  {
   "cell_type": "code",
   "execution_count": 29,
   "id": "3f355895",
   "metadata": {},
   "outputs": [
    {
     "name": "stderr",
     "output_type": "stream",
     "text": [
      "C:\\Users\\ChristianGardel\\anaconda3\\lib\\site-packages\\xgboost\\compat.py:36: FutureWarning: pandas.Int64Index is deprecated and will be removed from pandas in a future version. Use pandas.Index with the appropriate dtype instead.\n",
      "  from pandas import MultiIndex, Int64Index\n"
     ]
    },
    {
     "name": "stdout",
     "output_type": "stream",
     "text": [
      "y: (640840,)\n",
      "X: (640840, 8)\n"
     ]
    },
    {
     "name": "stderr",
     "output_type": "stream",
     "text": [
      "C:\\Users\\ChristianGardel\\anaconda3\\lib\\site-packages\\sklearn\\neural_network\\_multilayer_perceptron.py:692: ConvergenceWarning: Stochastic Optimizer: Maximum iterations (200) reached and the optimization hasn't converged yet.\n",
      "  warnings.warn(\n",
      "C:\\Users\\ChristianGardel\\anaconda3\\lib\\site-packages\\xgboost\\data.py:250: FutureWarning: pandas.Int64Index is deprecated and will be removed from pandas in a future version. Use pandas.Index with the appropriate dtype instead.\n",
      "  elif isinstance(data.columns, (pd.Int64Index, pd.RangeIndex)):\n"
     ]
    },
    {
     "name": "stdout",
     "output_type": "stream",
     "text": [
      "=====================================\n",
      "Model: lm, train R2: 0.8535820940779035 -- test R2: 0.8537765143891629\n",
      "Model: lm, train MSE: 2169294.889633077 -- test MSE: 2178846.8090142333\n",
      "Model: lm, train RMSE: 1472.852636767534 -- test RMSE: 1476.091734620255\n",
      "Model: lm, train MAE: 985.4808763243284 -- test MAE: 985.3518718026843\n",
      "=====================================\n",
      "Model: knn, train R2: 0.932621332732801 -- test R2: 0.8957000732949492\n",
      "Model: knn, train MSE: 998267.2382351286 -- test MSE: 1554152.272683041\n",
      "Model: knn, train RMSE: 999.1332434841354 -- test RMSE: 1246.656437308628\n",
      "Model: knn, train MAE: 620.6125905062106 -- test MAE: 776.979022845016\n",
      "=====================================\n",
      "Model: mlpr, train R2: 0.8777163645545866 -- test R2: 0.8776260568651333\n",
      "Model: mlpr, train MSE: 1811726.9454640981 -- test MSE: 1823469.5636754287\n",
      "Model: mlpr, train RMSE: 1346.0040659166295 -- test RMSE: 1350.359049910589\n",
      "Model: mlpr, train MAE: 893.90640676132 -- test MAE: 895.2749507685995\n",
      "=====================================\n",
      "Model: sgdr, train R2: -4.7655781030179504e+19 -- test R2: -4.775390587372723e+19\n",
      "Model: sgdr, train MSE: 7.060573746031151e+26 -- test MSE: 7.115713662294565e+26\n",
      "Model: sgdr, train RMSE: 26571740150075.137 -- test RMSE: 26675295054215.547\n",
      "Model: sgdr, train MAE: 21136281143280.0 -- test MAE: 21215332291206.234\n",
      "=====================================\n",
      "Model: lasso, train R2: 0.8535783384045671 -- test R2: 0.8537671869776857\n",
      "Model: lasso, train MSE: 2169350.5328477817 -- test MSE: 2178985.794900451\n",
      "Model: lasso, train RMSE: 1472.8715262533192 -- test RMSE: 1476.1388128832773\n",
      "Model: lasso, train MAE: 984.8338066795758 -- test MAE: 984.7264784323193\n",
      "=====================================\n",
      "Model: ridge, train R2: 0.8535820940661393 -- test R2: 0.8537765123026122\n",
      "Model: ridge, train MSE: 2169294.8898073738 -- test MSE: 2178846.840105507\n",
      "Model: ridge, train RMSE: 1472.8526368267037 -- test RMSE: 1476.0917451518746\n",
      "Model: ridge, train MAE: 985.4794259691886 -- test MAE: 985.3503951707849\n",
      "=====================================\n",
      "Model: elastic, train R2: 0.8313581095597445 -- test R2: 0.831669774173011\n",
      "Model: elastic, train MSE: 2498560.465034612 -- test MSE: 2508254.907695881\n",
      "Model: elastic, train RMSE: 1580.6835436084643 -- test RMSE: 1583.7471097671753\n",
      "Model: elastic, train MAE: 1103.3612429019277 -- test MAE: 1102.3390380876162\n",
      "=====================================\n",
      "Model: rfr, train R2: 0.9944569424964657 -- test R2: 0.9608611871353198\n",
      "Model: rfr, train MSE: 82124.69806634953 -- test MSE: 583199.594528703\n",
      "Model: rfr, train RMSE: 286.5740708200055 -- test RMSE: 763.6750582078107\n",
      "Model: rfr, train MAE: 168.3835182406808 -- test MAE: 449.46024140350585\n",
      "=====================================\n",
      "Model: xgbr, train R2: 0.9620850441191245 -- test R2: 0.9606355586004485\n",
      "Model: xgbr, train MSE: 561739.4915947528 -- test MSE: 586561.6400385139\n",
      "Model: xgbr, train RMSE: 749.4928229107686 -- test RMSE: 765.8731226766702\n",
      "Model: xgbr, train MAE: 522.8561140347198 -- test MAE: 530.4195329291955\n",
      "=====================================\n",
      "Model: lgbmr, train R2: 0.9157116769905482 -- test R2: 0.9155542696081673\n",
      "Model: lgbmr, train MSE: 1248796.9091528435 -- test MSE: 1258308.8785669361\n",
      "Model: lgbmr, train RMSE: 1117.4958206422266 -- test RMSE: 1121.7436777477\n",
      "Model: lgbmr, train MAE: 772.8089231114461 -- test MAE: 774.2323308650898\n"
     ]
    }
   ],
   "source": [
    "import pandas as pd\n",
    "import matplotlib.pyplot as plt\n",
    "import numpy as np\n",
    "import seaborn as sns\n",
    "import math\n",
    "\n",
    "from sklearn.model_selection import cross_validate\n",
    "from sklearn.model_selection import cross_val_score\n",
    "from sklearn.ensemble import RandomForestRegressor\n",
    "from sklearn.linear_model import SGDRegressor\n",
    "from sklearn.tree import DecisionTreeRegressor\n",
    "from sklearn.neural_network import MLPRegressor\n",
    "from sklearn.linear_model import LinearRegression\n",
    "from sklearn.neighbors import KNeighborsRegressor\n",
    "from sklearn.metrics import r2_score\n",
    "from sklearn import linear_model\n",
    "from sklearn.preprocessing import MinMaxScaler, StandardScaler, OneHotEncoder\n",
    "from sklearn.model_selection import train_test_split\n",
    "from sklearn.metrics import r2_score, mean_squared_error, mean_absolute_error\n",
    "from sklearn.linear_model import Lasso, Ridge, ElasticNet\n",
    "from sklearn.ensemble import RandomForestRegressor as RFR\n",
    "from xgboost import XGBRegressor as XGBR\n",
    "from lightgbm import LGBMRegressor as LGBMR\n",
    "\n",
    "# Separate the features from the labels\n",
    "\n",
    "y = data['sales']\n",
    "X = data.drop(['sales'], axis=1)\n",
    "\n",
    "print(f'y: {y.shape}')\n",
    "print(f'X: {X.shape}')\n",
    "\n",
    "# Train-Test Split\n",
    "\n",
    "X_train, X_test, y_train, y_test = train_test_split(X, y, test_size=0.2, random_state=1224)\n",
    "\n",
    "# Standardizing data - transform train and test same time all num variables. \n",
    "\n",
    "transformer = StandardScaler().fit(X_train)\n",
    "X_train_scaled = pd.DataFrame(transformer.transform(X_train),columns=X.columns)\n",
    "X_test_scaled = pd.DataFrame(transformer.transform(X_test),columns=X.columns)\n",
    "X_train_scaled.head()\n",
    "\n",
    "# Linear regression\n",
    "\n",
    "lm = linear_model.LinearRegression()\n",
    "lm.fit(X_train,y_train)\n",
    "\n",
    "y_pred_lm=lm.predict(X_test)\n",
    "\n",
    "# KNN Regression\n",
    "\n",
    "knn = KNeighborsRegressor()\n",
    "knn.fit(X_train, y_train)\n",
    "\n",
    "y_pred_knn=knn.predict(X_test)\n",
    "\n",
    "# MLP Regression\n",
    "\n",
    "mlpr = MLPRegressor()\n",
    "mlpr.fit(X_train, y_train)\n",
    "\n",
    "y_pred_mlpr=mlpr.predict(X_test)\n",
    "\n",
    "# SGD Regression\n",
    "\n",
    "sgdr = SGDRegressor()\n",
    "sgdr.fit(X_train, y_train)\n",
    "\n",
    "y_pred_sgdr=sgdr.predict(X_test)\n",
    "\n",
    "# Lasso L1\n",
    "\n",
    "lasso=Lasso()\n",
    "lasso.fit(X_train, y_train)\n",
    "\n",
    "y_pred_lasso=lasso.predict(X_test)\n",
    "\n",
    "# Ridge L2\n",
    "\n",
    "ridge=Ridge()\n",
    "ridge.fit(X_train, y_train)\n",
    "\n",
    "y_pred_ridge=ridge.predict(X_test)\n",
    "\n",
    "# ElasticNet L1+L2\n",
    "\n",
    "elastic=ElasticNet()\n",
    "elastic.fit(X_train, y_train)\n",
    "\n",
    "y_pred_elastic=elastic.predict(X_test)\n",
    "\n",
    "# Random forest regressor\n",
    "\n",
    "rfr=RFR()\n",
    "rfr.fit(X_train, y_train)\n",
    "\n",
    "y_pred_rfr=rfr.predict(X_test)\n",
    "\n",
    "# XGB regressor\n",
    "\n",
    "xgbr=XGBR()\n",
    "xgbr.fit(X_train, y_train)\n",
    "\n",
    "y_pred_xgbr=xgbr.predict(X_test)\n",
    "\n",
    "# LGBM regressor\n",
    "\n",
    "lgbmr=LGBMR()\n",
    "lgbmr.fit(X_train, y_train)\n",
    "\n",
    "y_pred_lgbmr=lgbmr.predict(X_test)\n",
    "\n",
    "# Model validation\n",
    "\n",
    "models=[lm, knn, mlpr, sgdr, lasso, ridge, elastic, rfr, xgbr, lgbmr]\n",
    "model_names=['lm', 'knn', 'mlpr', 'sgdr', 'lasso', 'ridge', 'elastic', 'rfr', 'xgbr', 'lgbmr']\n",
    "preds=[y_pred_lm, y_pred_knn, y_pred_mlpr, y_pred_sgdr, y_pred_lasso, y_pred_ridge, y_pred_elastic, y_pred_rfr, y_pred_xgbr, y_pred_lgbmr]\n",
    "\n",
    "for i in range(len(models)):\n",
    "    print('=====================================')\n",
    "    # R2 validation\n",
    "    train_score=models[i].score(X_train, y_train)\n",
    "    test_score=models[i].score(X_test, y_test)\n",
    "    print ('Model: {}, train R2: {} -- test R2: {}'.format(model_names[i], train_score, test_score))\n",
    "    \n",
    "    predictions = models[i].predict(X_train)\n",
    "    \n",
    "    # MSE validation\n",
    "    train_mse=mean_squared_error(predictions, y_train)\n",
    "    test_mse=mean_squared_error(preds[i], y_test)\n",
    "    print ('Model: {}, train MSE: {} -- test MSE: {}'.format(model_names[i], train_mse, test_mse))\n",
    "\n",
    "    # RMSE validation\n",
    "    train_rmse=mean_squared_error(predictions, y_train)**0.5\n",
    "    test_rmse=mean_squared_error(preds[i], y_test)**0.5\n",
    "    print ('Model: {}, train RMSE: {} -- test RMSE: {}'.format(model_names[i], train_rmse, test_rmse))\n",
    "\n",
    "    # MAE validation\n",
    "    train_mae=mean_absolute_error(predictions, y_train)\n",
    "    test_mae=mean_absolute_error(preds[i], y_test)\n",
    "    print ('Model: {}, train MAE: {} -- test MAE: {}'.format(model_names[i], train_mae, test_mae))"
   ]
  },
  {
   "cell_type": "code",
   "execution_count": null,
   "id": "fbb8490a",
   "metadata": {},
   "outputs": [],
   "source": []
  },
  {
   "cell_type": "code",
   "execution_count": null,
   "id": "d73af94b",
   "metadata": {},
   "outputs": [],
   "source": []
  },
  {
   "cell_type": "code",
   "execution_count": 72,
   "id": "49f9f95e",
   "metadata": {},
   "outputs": [
    {
     "name": "stdout",
     "output_type": "stream",
     "text": [
      "(71205, 9)\n"
     ]
    },
    {
     "data": {
      "text/html": [
       "<div>\n",
       "<style scoped>\n",
       "    .dataframe tbody tr th:only-of-type {\n",
       "        vertical-align: middle;\n",
       "    }\n",
       "\n",
       "    .dataframe tbody tr th {\n",
       "        vertical-align: top;\n",
       "    }\n",
       "\n",
       "    .dataframe thead th {\n",
       "        text-align: right;\n",
       "    }\n",
       "</style>\n",
       "<table border=\"1\" class=\"dataframe\">\n",
       "  <thead>\n",
       "    <tr style=\"text-align: right;\">\n",
       "      <th></th>\n",
       "      <th>True_index</th>\n",
       "      <th>Store_ID</th>\n",
       "      <th>Day_of_week</th>\n",
       "      <th>Date</th>\n",
       "      <th>Nb_customers_on_day</th>\n",
       "      <th>Open</th>\n",
       "      <th>Promotion</th>\n",
       "      <th>State_holiday</th>\n",
       "      <th>School_holiday</th>\n",
       "    </tr>\n",
       "  </thead>\n",
       "  <tbody>\n",
       "    <tr>\n",
       "      <th>0</th>\n",
       "      <td>7</td>\n",
       "      <td>764</td>\n",
       "      <td>4</td>\n",
       "      <td>2013-12-26</td>\n",
       "      <td>0</td>\n",
       "      <td>0</td>\n",
       "      <td>0</td>\n",
       "      <td>c</td>\n",
       "      <td>1</td>\n",
       "    </tr>\n",
       "    <tr>\n",
       "      <th>1</th>\n",
       "      <td>19</td>\n",
       "      <td>22</td>\n",
       "      <td>3</td>\n",
       "      <td>2013-05-22</td>\n",
       "      <td>449</td>\n",
       "      <td>1</td>\n",
       "      <td>0</td>\n",
       "      <td>0</td>\n",
       "      <td>1</td>\n",
       "    </tr>\n",
       "    <tr>\n",
       "      <th>2</th>\n",
       "      <td>31</td>\n",
       "      <td>1087</td>\n",
       "      <td>6</td>\n",
       "      <td>2013-06-29</td>\n",
       "      <td>622</td>\n",
       "      <td>1</td>\n",
       "      <td>0</td>\n",
       "      <td>0</td>\n",
       "      <td>0</td>\n",
       "    </tr>\n",
       "    <tr>\n",
       "      <th>3</th>\n",
       "      <td>45</td>\n",
       "      <td>139</td>\n",
       "      <td>6</td>\n",
       "      <td>2013-08-17</td>\n",
       "      <td>314</td>\n",
       "      <td>1</td>\n",
       "      <td>0</td>\n",
       "      <td>0</td>\n",
       "      <td>0</td>\n",
       "    </tr>\n",
       "    <tr>\n",
       "      <th>4</th>\n",
       "      <td>56</td>\n",
       "      <td>568</td>\n",
       "      <td>1</td>\n",
       "      <td>2014-04-07</td>\n",
       "      <td>356</td>\n",
       "      <td>1</td>\n",
       "      <td>0</td>\n",
       "      <td>0</td>\n",
       "      <td>0</td>\n",
       "    </tr>\n",
       "  </tbody>\n",
       "</table>\n",
       "</div>"
      ],
      "text/plain": [
       "   True_index  Store_ID  Day_of_week        Date  Nb_customers_on_day  Open  \\\n",
       "0           7       764            4  2013-12-26                    0     0   \n",
       "1          19        22            3  2013-05-22                  449     1   \n",
       "2          31      1087            6  2013-06-29                  622     1   \n",
       "3          45       139            6  2013-08-17                  314     1   \n",
       "4          56       568            1  2014-04-07                  356     1   \n",
       "\n",
       "   Promotion State_holiday  School_holiday  \n",
       "0          0             c               1  \n",
       "1          0             0               1  \n",
       "2          0             0               0  \n",
       "3          0             0               0  \n",
       "4          0             0               0  "
      ]
     },
     "execution_count": 72,
     "metadata": {},
     "output_type": "execute_result"
    }
   ],
   "source": [
    "validation = pd.read_csv('validation_for_students.csv')\n",
    "print(validation.shape)\n",
    "validation.head()"
   ]
  },
  {
   "cell_type": "code",
   "execution_count": 73,
   "id": "1f3935e3",
   "metadata": {},
   "outputs": [],
   "source": [
    "def standardize_header(dataframe):\n",
    "    dataframe.columns = [c.lower().replace(' ', '_') for c in dataframe.columns]\n",
    "\n",
    "standardize_header(validation)"
   ]
  },
  {
   "cell_type": "code",
   "execution_count": 74,
   "id": "9e63f287",
   "metadata": {},
   "outputs": [
    {
     "data": {
      "text/html": [
       "<div>\n",
       "<style scoped>\n",
       "    .dataframe tbody tr th:only-of-type {\n",
       "        vertical-align: middle;\n",
       "    }\n",
       "\n",
       "    .dataframe tbody tr th {\n",
       "        vertical-align: top;\n",
       "    }\n",
       "\n",
       "    .dataframe thead th {\n",
       "        text-align: right;\n",
       "    }\n",
       "</style>\n",
       "<table border=\"1\" class=\"dataframe\">\n",
       "  <thead>\n",
       "    <tr style=\"text-align: right;\">\n",
       "      <th></th>\n",
       "      <th>true_index</th>\n",
       "      <th>store_id</th>\n",
       "      <th>day_of_week</th>\n",
       "      <th>date</th>\n",
       "      <th>nb_customers_on_day</th>\n",
       "      <th>open</th>\n",
       "      <th>promotion</th>\n",
       "      <th>state_holiday</th>\n",
       "      <th>school_holiday</th>\n",
       "    </tr>\n",
       "  </thead>\n",
       "  <tbody>\n",
       "    <tr>\n",
       "      <th>0</th>\n",
       "      <td>7</td>\n",
       "      <td>764</td>\n",
       "      <td>4</td>\n",
       "      <td>2013-12-26</td>\n",
       "      <td>0</td>\n",
       "      <td>0</td>\n",
       "      <td>0</td>\n",
       "      <td>c</td>\n",
       "      <td>1</td>\n",
       "    </tr>\n",
       "    <tr>\n",
       "      <th>1</th>\n",
       "      <td>19</td>\n",
       "      <td>22</td>\n",
       "      <td>3</td>\n",
       "      <td>2013-05-22</td>\n",
       "      <td>449</td>\n",
       "      <td>1</td>\n",
       "      <td>0</td>\n",
       "      <td>0</td>\n",
       "      <td>1</td>\n",
       "    </tr>\n",
       "    <tr>\n",
       "      <th>2</th>\n",
       "      <td>31</td>\n",
       "      <td>1087</td>\n",
       "      <td>6</td>\n",
       "      <td>2013-06-29</td>\n",
       "      <td>622</td>\n",
       "      <td>1</td>\n",
       "      <td>0</td>\n",
       "      <td>0</td>\n",
       "      <td>0</td>\n",
       "    </tr>\n",
       "    <tr>\n",
       "      <th>3</th>\n",
       "      <td>45</td>\n",
       "      <td>139</td>\n",
       "      <td>6</td>\n",
       "      <td>2013-08-17</td>\n",
       "      <td>314</td>\n",
       "      <td>1</td>\n",
       "      <td>0</td>\n",
       "      <td>0</td>\n",
       "      <td>0</td>\n",
       "    </tr>\n",
       "    <tr>\n",
       "      <th>4</th>\n",
       "      <td>56</td>\n",
       "      <td>568</td>\n",
       "      <td>1</td>\n",
       "      <td>2014-04-07</td>\n",
       "      <td>356</td>\n",
       "      <td>1</td>\n",
       "      <td>0</td>\n",
       "      <td>0</td>\n",
       "      <td>0</td>\n",
       "    </tr>\n",
       "    <tr>\n",
       "      <th>...</th>\n",
       "      <td>...</td>\n",
       "      <td>...</td>\n",
       "      <td>...</td>\n",
       "      <td>...</td>\n",
       "      <td>...</td>\n",
       "      <td>...</td>\n",
       "      <td>...</td>\n",
       "      <td>...</td>\n",
       "      <td>...</td>\n",
       "    </tr>\n",
       "    <tr>\n",
       "      <th>71200</th>\n",
       "      <td>712004</td>\n",
       "      <td>217</td>\n",
       "      <td>2</td>\n",
       "      <td>2015-01-13</td>\n",
       "      <td>633</td>\n",
       "      <td>1</td>\n",
       "      <td>1</td>\n",
       "      <td>0</td>\n",
       "      <td>0</td>\n",
       "    </tr>\n",
       "    <tr>\n",
       "      <th>71201</th>\n",
       "      <td>712018</td>\n",
       "      <td>604</td>\n",
       "      <td>3</td>\n",
       "      <td>2014-04-30</td>\n",
       "      <td>743</td>\n",
       "      <td>1</td>\n",
       "      <td>1</td>\n",
       "      <td>0</td>\n",
       "      <td>0</td>\n",
       "    </tr>\n",
       "    <tr>\n",
       "      <th>71202</th>\n",
       "      <td>712020</td>\n",
       "      <td>1021</td>\n",
       "      <td>5</td>\n",
       "      <td>2014-07-18</td>\n",
       "      <td>1852</td>\n",
       "      <td>1</td>\n",
       "      <td>1</td>\n",
       "      <td>0</td>\n",
       "      <td>1</td>\n",
       "    </tr>\n",
       "    <tr>\n",
       "      <th>71203</th>\n",
       "      <td>712023</td>\n",
       "      <td>28</td>\n",
       "      <td>3</td>\n",
       "      <td>2014-08-27</td>\n",
       "      <td>0</td>\n",
       "      <td>0</td>\n",
       "      <td>0</td>\n",
       "      <td>0</td>\n",
       "      <td>1</td>\n",
       "    </tr>\n",
       "    <tr>\n",
       "      <th>71204</th>\n",
       "      <td>712027</td>\n",
       "      <td>655</td>\n",
       "      <td>3</td>\n",
       "      <td>2014-12-31</td>\n",
       "      <td>455</td>\n",
       "      <td>1</td>\n",
       "      <td>0</td>\n",
       "      <td>0</td>\n",
       "      <td>1</td>\n",
       "    </tr>\n",
       "  </tbody>\n",
       "</table>\n",
       "<p>71205 rows × 9 columns</p>\n",
       "</div>"
      ],
      "text/plain": [
       "       true_index  store_id  day_of_week        date  nb_customers_on_day  \\\n",
       "0               7       764            4  2013-12-26                    0   \n",
       "1              19        22            3  2013-05-22                  449   \n",
       "2              31      1087            6  2013-06-29                  622   \n",
       "3              45       139            6  2013-08-17                  314   \n",
       "4              56       568            1  2014-04-07                  356   \n",
       "...           ...       ...          ...         ...                  ...   \n",
       "71200      712004       217            2  2015-01-13                  633   \n",
       "71201      712018       604            3  2014-04-30                  743   \n",
       "71202      712020      1021            5  2014-07-18                 1852   \n",
       "71203      712023        28            3  2014-08-27                    0   \n",
       "71204      712027       655            3  2014-12-31                  455   \n",
       "\n",
       "       open  promotion state_holiday  school_holiday  \n",
       "0         0          0             c               1  \n",
       "1         1          0             0               1  \n",
       "2         1          0             0               0  \n",
       "3         1          0             0               0  \n",
       "4         1          0             0               0  \n",
       "...     ...        ...           ...             ...  \n",
       "71200     1          1             0               0  \n",
       "71201     1          1             0               0  \n",
       "71202     1          1             0               1  \n",
       "71203     0          0             0               1  \n",
       "71204     1          0             0               1  \n",
       "\n",
       "[71205 rows x 9 columns]"
      ]
     },
     "execution_count": 74,
     "metadata": {},
     "output_type": "execute_result"
    }
   ],
   "source": [
    "validation"
   ]
  },
  {
   "cell_type": "code",
   "execution_count": 75,
   "id": "b63bf652",
   "metadata": {},
   "outputs": [
    {
     "data": {
      "text/plain": [
       "1    526468\n",
       "0    114372\n",
       "Name: school_holiday, dtype: int64"
      ]
     },
     "execution_count": 75,
     "metadata": {},
     "output_type": "execute_result"
    }
   ],
   "source": [
    "def clean_school_holiday(x):\n",
    "    if x == 0:\n",
    "        return x\n",
    "    else:\n",
    "        return 1\n",
    "\n",
    "data['school_holiday'] = list(map(clean_school_holiday, data['school_holiday']))\n",
    "data['school_holiday'].value_counts()"
   ]
  },
  {
   "cell_type": "code",
   "execution_count": 76,
   "id": "5250ddfd",
   "metadata": {},
   "outputs": [
    {
     "data": {
      "text/plain": [
       "1    640840\n",
       "Name: state_holiday, dtype: int64"
      ]
     },
     "execution_count": 76,
     "metadata": {},
     "output_type": "execute_result"
    }
   ],
   "source": [
    "data['state_holiday'].value_counts()"
   ]
  },
  {
   "cell_type": "code",
   "execution_count": 68,
   "id": "9fa33ae2",
   "metadata": {},
   "outputs": [
    {
     "data": {
      "text/plain": [
       "1    640840\n",
       "Name: state_holiday, dtype: int64"
      ]
     },
     "execution_count": 68,
     "metadata": {},
     "output_type": "execute_result"
    }
   ],
   "source": [
    "data['state_holiday'] = np.where(data.state_holiday.isin(['a','b','c']),'1', data.state_holiday)\n",
    "data['state_holiday'].value_counts()"
   ]
  },
  {
   "cell_type": "code",
   "execution_count": 69,
   "id": "ba2bdddb",
   "metadata": {},
   "outputs": [],
   "source": [
    "validation = validation.drop(['date'], axis = 1)"
   ]
  },
  {
   "cell_type": "code",
   "execution_count": 70,
   "id": "2ae84db8",
   "metadata": {},
   "outputs": [
    {
     "name": "stderr",
     "output_type": "stream",
     "text": [
      "C:\\Users\\ChristianGardel\\anaconda3\\lib\\site-packages\\sklearn\\base.py:493: FutureWarning: The feature names should match those that were passed during fit. Starting version 1.2, an error will be raised.\n",
      "Feature names unseen at fit time:\n",
      "- store_id\n",
      "- true_index\n",
      "Feature names seen at fit time, yet now missing:\n",
      "- month_of_year\n",
      "- store_ID\n",
      "\n",
      "  warnings.warn(message, FutureWarning)\n"
     ]
    },
    {
     "ename": "ValueError",
     "evalue": "could not convert string to float: 'c'",
     "output_type": "error",
     "traceback": [
      "\u001b[1;31m---------------------------------------------------------------------------\u001b[0m",
      "\u001b[1;31mValueError\u001b[0m                                Traceback (most recent call last)",
      "\u001b[1;32m~\\AppData\\Local\\Temp\\ipykernel_5416\\2077475643.py\u001b[0m in \u001b[0;36m<module>\u001b[1;34m\u001b[0m\n\u001b[1;32m----> 1\u001b[1;33m \u001b[0mvalidation\u001b[0m\u001b[1;33m[\u001b[0m\u001b[1;34m'sales_pred'\u001b[0m\u001b[1;33m]\u001b[0m \u001b[1;33m=\u001b[0m \u001b[1;33m(\u001b[0m\u001b[0mlm\u001b[0m\u001b[1;33m.\u001b[0m\u001b[0mpredict\u001b[0m\u001b[1;33m(\u001b[0m\u001b[0mvalidation\u001b[0m\u001b[1;33m)\u001b[0m\u001b[1;33m)\u001b[0m\u001b[1;33m\u001b[0m\u001b[1;33m\u001b[0m\u001b[0m\n\u001b[0m",
      "\u001b[1;32m~\\anaconda3\\lib\\site-packages\\sklearn\\linear_model\\_base.py\u001b[0m in \u001b[0;36mpredict\u001b[1;34m(self, X)\u001b[0m\n\u001b[0;32m    360\u001b[0m             \u001b[0mReturns\u001b[0m \u001b[0mpredicted\u001b[0m \u001b[0mvalues\u001b[0m\u001b[1;33m.\u001b[0m\u001b[1;33m\u001b[0m\u001b[1;33m\u001b[0m\u001b[0m\n\u001b[0;32m    361\u001b[0m         \"\"\"\n\u001b[1;32m--> 362\u001b[1;33m         \u001b[1;32mreturn\u001b[0m \u001b[0mself\u001b[0m\u001b[1;33m.\u001b[0m\u001b[0m_decision_function\u001b[0m\u001b[1;33m(\u001b[0m\u001b[0mX\u001b[0m\u001b[1;33m)\u001b[0m\u001b[1;33m\u001b[0m\u001b[1;33m\u001b[0m\u001b[0m\n\u001b[0m\u001b[0;32m    363\u001b[0m \u001b[1;33m\u001b[0m\u001b[0m\n\u001b[0;32m    364\u001b[0m     \u001b[0m_preprocess_data\u001b[0m \u001b[1;33m=\u001b[0m \u001b[0mstaticmethod\u001b[0m\u001b[1;33m(\u001b[0m\u001b[0m_preprocess_data\u001b[0m\u001b[1;33m)\u001b[0m\u001b[1;33m\u001b[0m\u001b[1;33m\u001b[0m\u001b[0m\n",
      "\u001b[1;32m~\\anaconda3\\lib\\site-packages\\sklearn\\linear_model\\_base.py\u001b[0m in \u001b[0;36m_decision_function\u001b[1;34m(self, X)\u001b[0m\n\u001b[0;32m    343\u001b[0m         \u001b[0mcheck_is_fitted\u001b[0m\u001b[1;33m(\u001b[0m\u001b[0mself\u001b[0m\u001b[1;33m)\u001b[0m\u001b[1;33m\u001b[0m\u001b[1;33m\u001b[0m\u001b[0m\n\u001b[0;32m    344\u001b[0m \u001b[1;33m\u001b[0m\u001b[0m\n\u001b[1;32m--> 345\u001b[1;33m         \u001b[0mX\u001b[0m \u001b[1;33m=\u001b[0m \u001b[0mself\u001b[0m\u001b[1;33m.\u001b[0m\u001b[0m_validate_data\u001b[0m\u001b[1;33m(\u001b[0m\u001b[0mX\u001b[0m\u001b[1;33m,\u001b[0m \u001b[0maccept_sparse\u001b[0m\u001b[1;33m=\u001b[0m\u001b[1;33m[\u001b[0m\u001b[1;34m\"csr\"\u001b[0m\u001b[1;33m,\u001b[0m \u001b[1;34m\"csc\"\u001b[0m\u001b[1;33m,\u001b[0m \u001b[1;34m\"coo\"\u001b[0m\u001b[1;33m]\u001b[0m\u001b[1;33m,\u001b[0m \u001b[0mreset\u001b[0m\u001b[1;33m=\u001b[0m\u001b[1;32mFalse\u001b[0m\u001b[1;33m)\u001b[0m\u001b[1;33m\u001b[0m\u001b[1;33m\u001b[0m\u001b[0m\n\u001b[0m\u001b[0;32m    346\u001b[0m         \u001b[1;32mreturn\u001b[0m \u001b[0msafe_sparse_dot\u001b[0m\u001b[1;33m(\u001b[0m\u001b[0mX\u001b[0m\u001b[1;33m,\u001b[0m \u001b[0mself\u001b[0m\u001b[1;33m.\u001b[0m\u001b[0mcoef_\u001b[0m\u001b[1;33m.\u001b[0m\u001b[0mT\u001b[0m\u001b[1;33m,\u001b[0m \u001b[0mdense_output\u001b[0m\u001b[1;33m=\u001b[0m\u001b[1;32mTrue\u001b[0m\u001b[1;33m)\u001b[0m \u001b[1;33m+\u001b[0m \u001b[0mself\u001b[0m\u001b[1;33m.\u001b[0m\u001b[0mintercept_\u001b[0m\u001b[1;33m\u001b[0m\u001b[1;33m\u001b[0m\u001b[0m\n\u001b[0;32m    347\u001b[0m \u001b[1;33m\u001b[0m\u001b[0m\n",
      "\u001b[1;32m~\\anaconda3\\lib\\site-packages\\sklearn\\base.py\u001b[0m in \u001b[0;36m_validate_data\u001b[1;34m(self, X, y, reset, validate_separately, **check_params)\u001b[0m\n\u001b[0;32m    564\u001b[0m             \u001b[1;32mraise\u001b[0m \u001b[0mValueError\u001b[0m\u001b[1;33m(\u001b[0m\u001b[1;34m\"Validation should be done on X, y or both.\"\u001b[0m\u001b[1;33m)\u001b[0m\u001b[1;33m\u001b[0m\u001b[1;33m\u001b[0m\u001b[0m\n\u001b[0;32m    565\u001b[0m         \u001b[1;32melif\u001b[0m \u001b[1;32mnot\u001b[0m \u001b[0mno_val_X\u001b[0m \u001b[1;32mand\u001b[0m \u001b[0mno_val_y\u001b[0m\u001b[1;33m:\u001b[0m\u001b[1;33m\u001b[0m\u001b[1;33m\u001b[0m\u001b[0m\n\u001b[1;32m--> 566\u001b[1;33m             \u001b[0mX\u001b[0m \u001b[1;33m=\u001b[0m \u001b[0mcheck_array\u001b[0m\u001b[1;33m(\u001b[0m\u001b[0mX\u001b[0m\u001b[1;33m,\u001b[0m \u001b[1;33m**\u001b[0m\u001b[0mcheck_params\u001b[0m\u001b[1;33m)\u001b[0m\u001b[1;33m\u001b[0m\u001b[1;33m\u001b[0m\u001b[0m\n\u001b[0m\u001b[0;32m    567\u001b[0m             \u001b[0mout\u001b[0m \u001b[1;33m=\u001b[0m \u001b[0mX\u001b[0m\u001b[1;33m\u001b[0m\u001b[1;33m\u001b[0m\u001b[0m\n\u001b[0;32m    568\u001b[0m         \u001b[1;32melif\u001b[0m \u001b[0mno_val_X\u001b[0m \u001b[1;32mand\u001b[0m \u001b[1;32mnot\u001b[0m \u001b[0mno_val_y\u001b[0m\u001b[1;33m:\u001b[0m\u001b[1;33m\u001b[0m\u001b[1;33m\u001b[0m\u001b[0m\n",
      "\u001b[1;32m~\\anaconda3\\lib\\site-packages\\sklearn\\utils\\validation.py\u001b[0m in \u001b[0;36mcheck_array\u001b[1;34m(array, accept_sparse, accept_large_sparse, dtype, order, copy, force_all_finite, ensure_2d, allow_nd, ensure_min_samples, ensure_min_features, estimator)\u001b[0m\n\u001b[0;32m    744\u001b[0m                     \u001b[0marray\u001b[0m \u001b[1;33m=\u001b[0m \u001b[0marray\u001b[0m\u001b[1;33m.\u001b[0m\u001b[0mastype\u001b[0m\u001b[1;33m(\u001b[0m\u001b[0mdtype\u001b[0m\u001b[1;33m,\u001b[0m \u001b[0mcasting\u001b[0m\u001b[1;33m=\u001b[0m\u001b[1;34m\"unsafe\"\u001b[0m\u001b[1;33m,\u001b[0m \u001b[0mcopy\u001b[0m\u001b[1;33m=\u001b[0m\u001b[1;32mFalse\u001b[0m\u001b[1;33m)\u001b[0m\u001b[1;33m\u001b[0m\u001b[1;33m\u001b[0m\u001b[0m\n\u001b[0;32m    745\u001b[0m                 \u001b[1;32melse\u001b[0m\u001b[1;33m:\u001b[0m\u001b[1;33m\u001b[0m\u001b[1;33m\u001b[0m\u001b[0m\n\u001b[1;32m--> 746\u001b[1;33m                     \u001b[0marray\u001b[0m \u001b[1;33m=\u001b[0m \u001b[0mnp\u001b[0m\u001b[1;33m.\u001b[0m\u001b[0masarray\u001b[0m\u001b[1;33m(\u001b[0m\u001b[0marray\u001b[0m\u001b[1;33m,\u001b[0m \u001b[0morder\u001b[0m\u001b[1;33m=\u001b[0m\u001b[0morder\u001b[0m\u001b[1;33m,\u001b[0m \u001b[0mdtype\u001b[0m\u001b[1;33m=\u001b[0m\u001b[0mdtype\u001b[0m\u001b[1;33m)\u001b[0m\u001b[1;33m\u001b[0m\u001b[1;33m\u001b[0m\u001b[0m\n\u001b[0m\u001b[0;32m    747\u001b[0m             \u001b[1;32mexcept\u001b[0m \u001b[0mComplexWarning\u001b[0m \u001b[1;32mas\u001b[0m \u001b[0mcomplex_warning\u001b[0m\u001b[1;33m:\u001b[0m\u001b[1;33m\u001b[0m\u001b[1;33m\u001b[0m\u001b[0m\n\u001b[0;32m    748\u001b[0m                 raise ValueError(\n",
      "\u001b[1;32m~\\anaconda3\\lib\\site-packages\\pandas\\core\\generic.py\u001b[0m in \u001b[0;36m__array__\u001b[1;34m(self, dtype)\u001b[0m\n\u001b[0;32m   2062\u001b[0m \u001b[1;33m\u001b[0m\u001b[0m\n\u001b[0;32m   2063\u001b[0m     \u001b[1;32mdef\u001b[0m \u001b[0m__array__\u001b[0m\u001b[1;33m(\u001b[0m\u001b[0mself\u001b[0m\u001b[1;33m,\u001b[0m \u001b[0mdtype\u001b[0m\u001b[1;33m:\u001b[0m \u001b[0mnpt\u001b[0m\u001b[1;33m.\u001b[0m\u001b[0mDTypeLike\u001b[0m \u001b[1;33m|\u001b[0m \u001b[1;32mNone\u001b[0m \u001b[1;33m=\u001b[0m \u001b[1;32mNone\u001b[0m\u001b[1;33m)\u001b[0m \u001b[1;33m->\u001b[0m \u001b[0mnp\u001b[0m\u001b[1;33m.\u001b[0m\u001b[0mndarray\u001b[0m\u001b[1;33m:\u001b[0m\u001b[1;33m\u001b[0m\u001b[1;33m\u001b[0m\u001b[0m\n\u001b[1;32m-> 2064\u001b[1;33m         \u001b[1;32mreturn\u001b[0m \u001b[0mnp\u001b[0m\u001b[1;33m.\u001b[0m\u001b[0masarray\u001b[0m\u001b[1;33m(\u001b[0m\u001b[0mself\u001b[0m\u001b[1;33m.\u001b[0m\u001b[0m_values\u001b[0m\u001b[1;33m,\u001b[0m \u001b[0mdtype\u001b[0m\u001b[1;33m=\u001b[0m\u001b[0mdtype\u001b[0m\u001b[1;33m)\u001b[0m\u001b[1;33m\u001b[0m\u001b[1;33m\u001b[0m\u001b[0m\n\u001b[0m\u001b[0;32m   2065\u001b[0m \u001b[1;33m\u001b[0m\u001b[0m\n\u001b[0;32m   2066\u001b[0m     def __array_wrap__(\n",
      "\u001b[1;31mValueError\u001b[0m: could not convert string to float: 'c'"
     ]
    }
   ],
   "source": [
    "validation['sales_pred'] = (lm.predict(validation))"
   ]
  },
  {
   "cell_type": "code",
   "execution_count": null,
   "id": "8d71544b",
   "metadata": {},
   "outputs": [],
   "source": []
  }
 ],
 "metadata": {
  "kernelspec": {
   "display_name": "Python 3 (ipykernel)",
   "language": "python",
   "name": "python3"
  },
  "language_info": {
   "codemirror_mode": {
    "name": "ipython",
    "version": 3
   },
   "file_extension": ".py",
   "mimetype": "text/x-python",
   "name": "python",
   "nbconvert_exporter": "python",
   "pygments_lexer": "ipython3",
   "version": "3.9.13"
  }
 },
 "nbformat": 4,
 "nbformat_minor": 5
}
